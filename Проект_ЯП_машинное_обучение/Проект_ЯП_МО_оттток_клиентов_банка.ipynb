{
 "cells": [
  {
   "cell_type": "markdown",
   "id": "3ca3d6c0",
   "metadata": {},
   "source": [
    "# Проект: Отток клиентов банка"
   ]
  },
  {
   "cell_type": "markdown",
   "id": "724f9b01",
   "metadata": {},
   "source": [
    "## Описание проекта"
   ]
  },
  {
   "cell_type": "markdown",
   "id": "8ca11e5b",
   "metadata": {},
   "source": [
    "Нужно спрогнозировать, уйдёт ли клиент из банка в ближайшеее время или нет. Предоставлены исторические данные о поведение клиентов и расторжение договоров с банком. Маркетологи посчитали, что удержать старых клиентов дешевле, чем найти новых.\n",
    "Нужно построить модель с предельно большим значением F1-меры. Нужно довести метрику до 0.59. Проверить F1-меру на тестовой выборке самостоятельно.\n",
    "\n",
    "Дополнительно измерить AUC-ROC, сравнитье её значение с F1-мерой.\n",
    "\n",
    "Источник данных: https://www.kaggle.com/barelydedicated/bank-customer-churn-modeling\n",
    "\n",
    "<b> Содержание\n",
    "\n",
    "1 Подготовка данных\n",
    "\n",
    "2 Исследование задачи\n",
    "\n",
    "3 Борьба с дисбалансом\n",
    "\n",
    "4 Тестирование модели"
   ]
  },
  {
   "cell_type": "markdown",
   "id": "265bf123",
   "metadata": {},
   "source": [
    "## Вывод"
   ]
  },
  {
   "cell_type": "markdown",
   "id": "9d011c98",
   "metadata": {},
   "source": [
    "В данном исследовании изучил и подготовил данные, Исследовал баланс классов и обучил модель сначала без учета дизбаланса, а потом и с учетом. Нашёл, что при увеличении выборки модель случайного леса показывает наибольшее значение А1. Проверил на этой модели тестовую выборку. Значение F1-метрики на тестовой модели 0,589, а площадь под кривой 0,84, что приближается к 1, то есть доля истинно-положительных ответов достаточно высока."
   ]
  },
  {
   "cell_type": "markdown",
   "id": "905f06a6",
   "metadata": {},
   "source": [
    "## Подготовка данных"
   ]
  },
  {
   "cell_type": "code",
   "execution_count": 3,
   "id": "7b422cf1",
   "metadata": {},
   "outputs": [
    {
     "data": {
      "text/html": [
       "<div>\n",
       "<style scoped>\n",
       "    .dataframe tbody tr th:only-of-type {\n",
       "        vertical-align: middle;\n",
       "    }\n",
       "\n",
       "    .dataframe tbody tr th {\n",
       "        vertical-align: top;\n",
       "    }\n",
       "\n",
       "    .dataframe thead th {\n",
       "        text-align: right;\n",
       "    }\n",
       "</style>\n",
       "<table border=\"1\" class=\"dataframe\">\n",
       "  <thead>\n",
       "    <tr style=\"text-align: right;\">\n",
       "      <th></th>\n",
       "      <th>RowNumber</th>\n",
       "      <th>CustomerId</th>\n",
       "      <th>Surname</th>\n",
       "      <th>CreditScore</th>\n",
       "      <th>Geography</th>\n",
       "      <th>Gender</th>\n",
       "      <th>Age</th>\n",
       "      <th>Tenure</th>\n",
       "      <th>Balance</th>\n",
       "      <th>NumOfProducts</th>\n",
       "      <th>HasCrCard</th>\n",
       "      <th>IsActiveMember</th>\n",
       "      <th>EstimatedSalary</th>\n",
       "      <th>Exited</th>\n",
       "    </tr>\n",
       "  </thead>\n",
       "  <tbody>\n",
       "    <tr>\n",
       "      <th>0</th>\n",
       "      <td>1</td>\n",
       "      <td>15634602</td>\n",
       "      <td>Hargrave</td>\n",
       "      <td>619</td>\n",
       "      <td>France</td>\n",
       "      <td>Female</td>\n",
       "      <td>42</td>\n",
       "      <td>2.0</td>\n",
       "      <td>0.00</td>\n",
       "      <td>1</td>\n",
       "      <td>1</td>\n",
       "      <td>1</td>\n",
       "      <td>101348.88</td>\n",
       "      <td>1</td>\n",
       "    </tr>\n",
       "    <tr>\n",
       "      <th>1</th>\n",
       "      <td>2</td>\n",
       "      <td>15647311</td>\n",
       "      <td>Hill</td>\n",
       "      <td>608</td>\n",
       "      <td>Spain</td>\n",
       "      <td>Female</td>\n",
       "      <td>41</td>\n",
       "      <td>1.0</td>\n",
       "      <td>83807.86</td>\n",
       "      <td>1</td>\n",
       "      <td>0</td>\n",
       "      <td>1</td>\n",
       "      <td>112542.58</td>\n",
       "      <td>0</td>\n",
       "    </tr>\n",
       "    <tr>\n",
       "      <th>2</th>\n",
       "      <td>3</td>\n",
       "      <td>15619304</td>\n",
       "      <td>Onio</td>\n",
       "      <td>502</td>\n",
       "      <td>France</td>\n",
       "      <td>Female</td>\n",
       "      <td>42</td>\n",
       "      <td>8.0</td>\n",
       "      <td>159660.80</td>\n",
       "      <td>3</td>\n",
       "      <td>1</td>\n",
       "      <td>0</td>\n",
       "      <td>113931.57</td>\n",
       "      <td>1</td>\n",
       "    </tr>\n",
       "    <tr>\n",
       "      <th>3</th>\n",
       "      <td>4</td>\n",
       "      <td>15701354</td>\n",
       "      <td>Boni</td>\n",
       "      <td>699</td>\n",
       "      <td>France</td>\n",
       "      <td>Female</td>\n",
       "      <td>39</td>\n",
       "      <td>1.0</td>\n",
       "      <td>0.00</td>\n",
       "      <td>2</td>\n",
       "      <td>0</td>\n",
       "      <td>0</td>\n",
       "      <td>93826.63</td>\n",
       "      <td>0</td>\n",
       "    </tr>\n",
       "    <tr>\n",
       "      <th>4</th>\n",
       "      <td>5</td>\n",
       "      <td>15737888</td>\n",
       "      <td>Mitchell</td>\n",
       "      <td>850</td>\n",
       "      <td>Spain</td>\n",
       "      <td>Female</td>\n",
       "      <td>43</td>\n",
       "      <td>2.0</td>\n",
       "      <td>125510.82</td>\n",
       "      <td>1</td>\n",
       "      <td>1</td>\n",
       "      <td>1</td>\n",
       "      <td>79084.10</td>\n",
       "      <td>0</td>\n",
       "    </tr>\n",
       "    <tr>\n",
       "      <th>5</th>\n",
       "      <td>6</td>\n",
       "      <td>15574012</td>\n",
       "      <td>Chu</td>\n",
       "      <td>645</td>\n",
       "      <td>Spain</td>\n",
       "      <td>Male</td>\n",
       "      <td>44</td>\n",
       "      <td>8.0</td>\n",
       "      <td>113755.78</td>\n",
       "      <td>2</td>\n",
       "      <td>1</td>\n",
       "      <td>0</td>\n",
       "      <td>149756.71</td>\n",
       "      <td>1</td>\n",
       "    </tr>\n",
       "    <tr>\n",
       "      <th>6</th>\n",
       "      <td>7</td>\n",
       "      <td>15592531</td>\n",
       "      <td>Bartlett</td>\n",
       "      <td>822</td>\n",
       "      <td>France</td>\n",
       "      <td>Male</td>\n",
       "      <td>50</td>\n",
       "      <td>7.0</td>\n",
       "      <td>0.00</td>\n",
       "      <td>2</td>\n",
       "      <td>1</td>\n",
       "      <td>1</td>\n",
       "      <td>10062.80</td>\n",
       "      <td>0</td>\n",
       "    </tr>\n",
       "    <tr>\n",
       "      <th>7</th>\n",
       "      <td>8</td>\n",
       "      <td>15656148</td>\n",
       "      <td>Obinna</td>\n",
       "      <td>376</td>\n",
       "      <td>Germany</td>\n",
       "      <td>Female</td>\n",
       "      <td>29</td>\n",
       "      <td>4.0</td>\n",
       "      <td>115046.74</td>\n",
       "      <td>4</td>\n",
       "      <td>1</td>\n",
       "      <td>0</td>\n",
       "      <td>119346.88</td>\n",
       "      <td>1</td>\n",
       "    </tr>\n",
       "    <tr>\n",
       "      <th>8</th>\n",
       "      <td>9</td>\n",
       "      <td>15792365</td>\n",
       "      <td>He</td>\n",
       "      <td>501</td>\n",
       "      <td>France</td>\n",
       "      <td>Male</td>\n",
       "      <td>44</td>\n",
       "      <td>4.0</td>\n",
       "      <td>142051.07</td>\n",
       "      <td>2</td>\n",
       "      <td>0</td>\n",
       "      <td>1</td>\n",
       "      <td>74940.50</td>\n",
       "      <td>0</td>\n",
       "    </tr>\n",
       "    <tr>\n",
       "      <th>9</th>\n",
       "      <td>10</td>\n",
       "      <td>15592389</td>\n",
       "      <td>H?</td>\n",
       "      <td>684</td>\n",
       "      <td>France</td>\n",
       "      <td>Male</td>\n",
       "      <td>27</td>\n",
       "      <td>2.0</td>\n",
       "      <td>134603.88</td>\n",
       "      <td>1</td>\n",
       "      <td>1</td>\n",
       "      <td>1</td>\n",
       "      <td>71725.73</td>\n",
       "      <td>0</td>\n",
       "    </tr>\n",
       "  </tbody>\n",
       "</table>\n",
       "</div>"
      ],
      "text/plain": [
       "   RowNumber  CustomerId   Surname  CreditScore Geography  Gender  Age  \\\n",
       "0          1    15634602  Hargrave          619    France  Female   42   \n",
       "1          2    15647311      Hill          608     Spain  Female   41   \n",
       "2          3    15619304      Onio          502    France  Female   42   \n",
       "3          4    15701354      Boni          699    France  Female   39   \n",
       "4          5    15737888  Mitchell          850     Spain  Female   43   \n",
       "5          6    15574012       Chu          645     Spain    Male   44   \n",
       "6          7    15592531  Bartlett          822    France    Male   50   \n",
       "7          8    15656148    Obinna          376   Germany  Female   29   \n",
       "8          9    15792365        He          501    France    Male   44   \n",
       "9         10    15592389        H?          684    France    Male   27   \n",
       "\n",
       "   Tenure    Balance  NumOfProducts  HasCrCard  IsActiveMember  \\\n",
       "0     2.0       0.00              1          1               1   \n",
       "1     1.0   83807.86              1          0               1   \n",
       "2     8.0  159660.80              3          1               0   \n",
       "3     1.0       0.00              2          0               0   \n",
       "4     2.0  125510.82              1          1               1   \n",
       "5     8.0  113755.78              2          1               0   \n",
       "6     7.0       0.00              2          1               1   \n",
       "7     4.0  115046.74              4          1               0   \n",
       "8     4.0  142051.07              2          0               1   \n",
       "9     2.0  134603.88              1          1               1   \n",
       "\n",
       "   EstimatedSalary  Exited  \n",
       "0        101348.88       1  \n",
       "1        112542.58       0  \n",
       "2        113931.57       1  \n",
       "3         93826.63       0  \n",
       "4         79084.10       0  \n",
       "5        149756.71       1  \n",
       "6         10062.80       0  \n",
       "7        119346.88       1  \n",
       "8         74940.50       0  \n",
       "9         71725.73       0  "
      ]
     },
     "execution_count": 3,
     "metadata": {},
     "output_type": "execute_result"
    }
   ],
   "source": [
    "#  Открытие и изучение файла\n",
    "import pandas as pd\n",
    "from sklearn.tree import DecisionTreeRegressor\n",
    "from sklearn.ensemble import RandomForestRegressor\n",
    "from sklearn.linear_model import LinearRegression\n",
    "from sklearn.model_selection import train_test_split\n",
    "from sklearn.metrics import mean_squared_error\n",
    "from sklearn.tree import DecisionTreeClassifier\n",
    "from sklearn.metrics import accuracy_score\n",
    "from sklearn.ensemble import RandomForestClassifier\n",
    "from sklearn.model_selection import train_test_split\n",
    "from joblib import dump\n",
    "from sklearn.linear_model import LogisticRegression \n",
    "from sklearn.metrics import mean_absolute_error\n",
    "from sklearn.metrics import recall_score \n",
    "from sklearn.metrics import precision_score\n",
    "from sklearn.metrics  import f1_score\n",
    "from sklearn.metrics import roc_curve \n",
    "import matplotlib.pyplot as plt\n",
    "from sklearn.metrics import roc_auc_score \n",
    "from sklearn.preprocessing import StandardScaler \n",
    "pd.options.mode.chained_assignment = None\n",
    "from sklearn.utils import shuffle\n",
    "import numpy as np\n",
    "\n",
    "df = pd.read_csv('Churn.csv')\n",
    "df.head(10)"
   ]
  },
  {
   "cell_type": "code",
   "execution_count": 4,
   "id": "585497dd",
   "metadata": {},
   "outputs": [
    {
     "name": "stdout",
     "output_type": "stream",
     "text": [
      "<class 'pandas.core.frame.DataFrame'>\n",
      "RangeIndex: 10000 entries, 0 to 9999\n",
      "Data columns (total 14 columns):\n",
      " #   Column           Non-Null Count  Dtype  \n",
      "---  ------           --------------  -----  \n",
      " 0   RowNumber        10000 non-null  int64  \n",
      " 1   CustomerId       10000 non-null  int64  \n",
      " 2   Surname          10000 non-null  object \n",
      " 3   CreditScore      10000 non-null  int64  \n",
      " 4   Geography        10000 non-null  object \n",
      " 5   Gender           10000 non-null  object \n",
      " 6   Age              10000 non-null  int64  \n",
      " 7   Tenure           9091 non-null   float64\n",
      " 8   Balance          10000 non-null  float64\n",
      " 9   NumOfProducts    10000 non-null  int64  \n",
      " 10  HasCrCard        10000 non-null  int64  \n",
      " 11  IsActiveMember   10000 non-null  int64  \n",
      " 12  EstimatedSalary  10000 non-null  float64\n",
      " 13  Exited           10000 non-null  int64  \n",
      "dtypes: float64(3), int64(8), object(3)\n",
      "memory usage: 1.1+ MB\n"
     ]
    }
   ],
   "source": [
    "df.info()"
   ]
  },
  {
   "cell_type": "code",
   "execution_count": 5,
   "id": "9c5984bb",
   "metadata": {},
   "outputs": [
    {
     "data": {
      "text/plain": [
       "0"
      ]
     },
     "execution_count": 5,
     "metadata": {},
     "output_type": "execute_result"
    }
   ],
   "source": [
    "df.duplicated().sum()"
   ]
  },
  {
   "cell_type": "code",
   "execution_count": 6,
   "id": "e73b8927",
   "metadata": {},
   "outputs": [
    {
     "data": {
      "text/plain": [
       "array([    1,     2,     3, ...,  9998,  9999, 10000], dtype=int64)"
      ]
     },
     "execution_count": 6,
     "metadata": {},
     "output_type": "execute_result"
    }
   ],
   "source": [
    "df['RowNumber'].unique()"
   ]
  },
  {
   "cell_type": "code",
   "execution_count": 7,
   "id": "039f1fb4",
   "metadata": {},
   "outputs": [
    {
     "data": {
      "text/plain": [
       "array([15634602, 15647311, 15619304, ..., 15584532, 15682355, 15628319],\n",
       "      dtype=int64)"
      ]
     },
     "execution_count": 7,
     "metadata": {},
     "output_type": "execute_result"
    }
   ],
   "source": [
    "df['CustomerId'].unique()"
   ]
  },
  {
   "cell_type": "code",
   "execution_count": 8,
   "id": "ad326995",
   "metadata": {},
   "outputs": [
    {
     "data": {
      "text/plain": [
       "array(['Hargrave', 'Hill', 'Onio', ..., 'Kashiwagi', 'Aldridge',\n",
       "       'Burbidge'], dtype=object)"
      ]
     },
     "execution_count": 8,
     "metadata": {},
     "output_type": "execute_result"
    }
   ],
   "source": [
    "df['Surname'].unique()"
   ]
  },
  {
   "cell_type": "code",
   "execution_count": 9,
   "id": "b5e5e204",
   "metadata": {},
   "outputs": [],
   "source": [
    "# Столбец Индекс RowNumber строки данных не несет смысловой нагрузки на исследование, удалю его.\n",
    "# Столбец КлиентАйди CustomerId строки данных не несет смысловой нагрузки на исследование, удалю его. \n",
    "# Столбец Фамилия Surname не несет смысловой нагрузки на исследование, удалю его. \n",
    "df = df.drop(['RowNumber','CustomerId','Surname'], axis=1)"
   ]
  },
  {
   "cell_type": "markdown",
   "id": "20d87e37",
   "metadata": {},
   "source": [
    "<b> Все библиотеки загружены, файл открыт. С типами данных все в порядке, дубликатов нет."
   ]
  },
  {
   "cell_type": "code",
   "execution_count": 10,
   "id": "84bf8208",
   "metadata": {},
   "outputs": [
    {
     "data": {
      "text/plain": [
       "CreditScore          0\n",
       "Geography            0\n",
       "Gender               0\n",
       "Age                  0\n",
       "Tenure             909\n",
       "Balance              0\n",
       "NumOfProducts        0\n",
       "HasCrCard            0\n",
       "IsActiveMember       0\n",
       "EstimatedSalary      0\n",
       "Exited               0\n",
       "dtype: int64"
      ]
     },
     "execution_count": 10,
     "metadata": {},
     "output_type": "execute_result"
    }
   ],
   "source": [
    "# Выявление пропусков или NAN #\n",
    "df.isna().sum()"
   ]
  },
  {
   "cell_type": "code",
   "execution_count": 11,
   "id": "16f3c8dc",
   "metadata": {},
   "outputs": [
    {
     "data": {
      "text/plain": [
       "array([ 2.,  1.,  8.,  7.,  4.,  6.,  3., 10.,  5.,  9.,  0., nan])"
      ]
     },
     "execution_count": 11,
     "metadata": {},
     "output_type": "execute_result"
    }
   ],
   "source": [
    "df['Tenure'].unique()"
   ]
  },
  {
   "cell_type": "code",
   "execution_count": 12,
   "id": "2a729a0e",
   "metadata": {},
   "outputs": [],
   "source": [
    "# В столбце \"Сколько лет человек является клиентом банка\" есть пропуски. Можно предположить, что это новые клиенты. \n",
    "# Заменю значения Nan на 0\n",
    "df['Tenure']=df['Tenure'].fillna(0)"
   ]
  },
  {
   "cell_type": "code",
   "execution_count": 13,
   "id": "2760eb51",
   "metadata": {},
   "outputs": [
    {
     "data": {
      "text/html": [
       "<div>\n",
       "<style scoped>\n",
       "    .dataframe tbody tr th:only-of-type {\n",
       "        vertical-align: middle;\n",
       "    }\n",
       "\n",
       "    .dataframe tbody tr th {\n",
       "        vertical-align: top;\n",
       "    }\n",
       "\n",
       "    .dataframe thead th {\n",
       "        text-align: right;\n",
       "    }\n",
       "</style>\n",
       "<table border=\"1\" class=\"dataframe\">\n",
       "  <thead>\n",
       "    <tr style=\"text-align: right;\">\n",
       "      <th></th>\n",
       "      <th>CreditScore</th>\n",
       "      <th>Age</th>\n",
       "      <th>Tenure</th>\n",
       "      <th>Balance</th>\n",
       "      <th>NumOfProducts</th>\n",
       "      <th>HasCrCard</th>\n",
       "      <th>IsActiveMember</th>\n",
       "      <th>EstimatedSalary</th>\n",
       "      <th>Exited</th>\n",
       "    </tr>\n",
       "  </thead>\n",
       "  <tbody>\n",
       "    <tr>\n",
       "      <th>count</th>\n",
       "      <td>10000.000000</td>\n",
       "      <td>10000.000000</td>\n",
       "      <td>10000.000000</td>\n",
       "      <td>10000.000000</td>\n",
       "      <td>10000.000000</td>\n",
       "      <td>10000.00000</td>\n",
       "      <td>10000.000000</td>\n",
       "      <td>10000.000000</td>\n",
       "      <td>10000.000000</td>\n",
       "    </tr>\n",
       "    <tr>\n",
       "      <th>mean</th>\n",
       "      <td>650.528800</td>\n",
       "      <td>38.921800</td>\n",
       "      <td>4.543400</td>\n",
       "      <td>76485.889288</td>\n",
       "      <td>1.530200</td>\n",
       "      <td>0.70550</td>\n",
       "      <td>0.515100</td>\n",
       "      <td>100090.239881</td>\n",
       "      <td>0.203700</td>\n",
       "    </tr>\n",
       "    <tr>\n",
       "      <th>std</th>\n",
       "      <td>96.653299</td>\n",
       "      <td>10.487806</td>\n",
       "      <td>3.111573</td>\n",
       "      <td>62397.405202</td>\n",
       "      <td>0.581654</td>\n",
       "      <td>0.45584</td>\n",
       "      <td>0.499797</td>\n",
       "      <td>57510.492818</td>\n",
       "      <td>0.402769</td>\n",
       "    </tr>\n",
       "    <tr>\n",
       "      <th>min</th>\n",
       "      <td>350.000000</td>\n",
       "      <td>18.000000</td>\n",
       "      <td>0.000000</td>\n",
       "      <td>0.000000</td>\n",
       "      <td>1.000000</td>\n",
       "      <td>0.00000</td>\n",
       "      <td>0.000000</td>\n",
       "      <td>11.580000</td>\n",
       "      <td>0.000000</td>\n",
       "    </tr>\n",
       "    <tr>\n",
       "      <th>25%</th>\n",
       "      <td>584.000000</td>\n",
       "      <td>32.000000</td>\n",
       "      <td>2.000000</td>\n",
       "      <td>0.000000</td>\n",
       "      <td>1.000000</td>\n",
       "      <td>0.00000</td>\n",
       "      <td>0.000000</td>\n",
       "      <td>51002.110000</td>\n",
       "      <td>0.000000</td>\n",
       "    </tr>\n",
       "    <tr>\n",
       "      <th>50%</th>\n",
       "      <td>652.000000</td>\n",
       "      <td>37.000000</td>\n",
       "      <td>4.000000</td>\n",
       "      <td>97198.540000</td>\n",
       "      <td>1.000000</td>\n",
       "      <td>1.00000</td>\n",
       "      <td>1.000000</td>\n",
       "      <td>100193.915000</td>\n",
       "      <td>0.000000</td>\n",
       "    </tr>\n",
       "    <tr>\n",
       "      <th>75%</th>\n",
       "      <td>718.000000</td>\n",
       "      <td>44.000000</td>\n",
       "      <td>7.000000</td>\n",
       "      <td>127644.240000</td>\n",
       "      <td>2.000000</td>\n",
       "      <td>1.00000</td>\n",
       "      <td>1.000000</td>\n",
       "      <td>149388.247500</td>\n",
       "      <td>0.000000</td>\n",
       "    </tr>\n",
       "    <tr>\n",
       "      <th>max</th>\n",
       "      <td>850.000000</td>\n",
       "      <td>92.000000</td>\n",
       "      <td>10.000000</td>\n",
       "      <td>250898.090000</td>\n",
       "      <td>4.000000</td>\n",
       "      <td>1.00000</td>\n",
       "      <td>1.000000</td>\n",
       "      <td>199992.480000</td>\n",
       "      <td>1.000000</td>\n",
       "    </tr>\n",
       "  </tbody>\n",
       "</table>\n",
       "</div>"
      ],
      "text/plain": [
       "        CreditScore           Age        Tenure        Balance  NumOfProducts  \\\n",
       "count  10000.000000  10000.000000  10000.000000   10000.000000   10000.000000   \n",
       "mean     650.528800     38.921800      4.543400   76485.889288       1.530200   \n",
       "std       96.653299     10.487806      3.111573   62397.405202       0.581654   \n",
       "min      350.000000     18.000000      0.000000       0.000000       1.000000   \n",
       "25%      584.000000     32.000000      2.000000       0.000000       1.000000   \n",
       "50%      652.000000     37.000000      4.000000   97198.540000       1.000000   \n",
       "75%      718.000000     44.000000      7.000000  127644.240000       2.000000   \n",
       "max      850.000000     92.000000     10.000000  250898.090000       4.000000   \n",
       "\n",
       "         HasCrCard  IsActiveMember  EstimatedSalary        Exited  \n",
       "count  10000.00000    10000.000000     10000.000000  10000.000000  \n",
       "mean       0.70550        0.515100    100090.239881      0.203700  \n",
       "std        0.45584        0.499797     57510.492818      0.402769  \n",
       "min        0.00000        0.000000        11.580000      0.000000  \n",
       "25%        0.00000        0.000000     51002.110000      0.000000  \n",
       "50%        1.00000        1.000000    100193.915000      0.000000  \n",
       "75%        1.00000        1.000000    149388.247500      0.000000  \n",
       "max        1.00000        1.000000    199992.480000      1.000000  "
      ]
     },
     "execution_count": 13,
     "metadata": {},
     "output_type": "execute_result"
    }
   ],
   "source": [
    "df.describe()"
   ]
  },
  {
   "cell_type": "markdown",
   "id": "5816f2cb",
   "metadata": {},
   "source": [
    "## Исследование задачи"
   ]
  },
  {
   "cell_type": "markdown",
   "id": "c83dd53a",
   "metadata": {},
   "source": [
    "Преобразую датафрейм техникой OHE. Чтобы не попасть в дамми-ловушку, применю аргумент drop_first функции pd.get_dummies()."
   ]
  },
  {
   "cell_type": "code",
   "execution_count": 14,
   "id": "22bbd957",
   "metadata": {},
   "outputs": [],
   "source": [
    "df_OHE = pd.get_dummies(df,drop_first=True)"
   ]
  },
  {
   "cell_type": "code",
   "execution_count": 15,
   "id": "802aa659",
   "metadata": {},
   "outputs": [],
   "source": [
    "# Разбивка данных на выборки: обучающая, валидационная, тестовая в соотношении 60-20-20 соотвественно.\n",
    "\n",
    "target = df_OHE['Exited']\n",
    "features = df_OHE.drop('Exited', axis = 1)"
   ]
  },
  {
   "cell_type": "code",
   "execution_count": 16,
   "id": "a4be6393",
   "metadata": {},
   "outputs": [],
   "source": [
    "# деление выборки на train, valid на 0,6 и 0,4 соответственно\n",
    "\n",
    "features_train, features_valid, target_train, target_valid= train_test_split(features,target, test_size=0.4, random_state=12345, shuffle=True)"
   ]
  },
  {
   "cell_type": "code",
   "execution_count": 17,
   "id": "859bcf7d",
   "metadata": {},
   "outputs": [
    {
     "name": "stdout",
     "output_type": "stream",
     "text": [
      "(6000, 11) (2000, 11) (2000, 11)\n",
      "(6000,) (2000,) (2000,)\n"
     ]
    }
   ],
   "source": [
    "# деление выборки valid на valid и test 0,4 делим пополам\n",
    "\n",
    "features_valid, features_test, target_valid, target_test = train_test_split(features_valid,target_valid, test_size=0.5, random_state=12345, shuffle=True)\n",
    "print(features_train.shape, features_valid.shape, features_test.shape)\n",
    "print(target_train.shape, target_valid.shape, target_test.shape)"
   ]
  },
  {
   "cell_type": "markdown",
   "id": "58cd6987",
   "metadata": {},
   "source": [
    "## Исследование моделей \n",
    "\n",
    "### - Дерево\n",
    "\n",
    "Целевой признак:\n",
    "\n",
    "-Exited — факт ухода клиента"
   ]
  },
  {
   "cell_type": "code",
   "execution_count": 18,
   "id": "6fb392bb",
   "metadata": {},
   "outputs": [
    {
     "name": "stdout",
     "output_type": "stream",
     "text": [
      "max_depth = 1 : 0.791\n",
      "max_depth = 2 : 0.824\n",
      "max_depth = 3 : 0.838\n",
      "max_depth = 4 : 0.852\n",
      "max_depth = 5 : 0.853\n",
      "max_depth = 6 : 0.858\n",
      "max_depth = 7 : 0.8505\n",
      "max_depth = 8 : 0.8505\n",
      "max_depth = 9 : 0.85\n",
      "max_depth = 10 : 0.834\n",
      "max_depth = 11 : 0.8225\n",
      "max_depth = 12 : 0.81\n",
      "max_depth = 13 : 0.818\n",
      "max_depth = 14 : 0.8005\n",
      "max_depth = 15 : 0.8035\n",
      "max_depth = 16 : 0.799\n",
      "max_depth = 17 : 0.787\n",
      "max_depth = 18 : 0.794\n",
      "max_depth = 19 : 0.7915\n",
      "Wall time: 639 ms\n"
     ]
    }
   ],
   "source": [
    "%%time\n",
    "for depth in range(1, 20):\n",
    "    model = DecisionTreeClassifier(random_state=12345, max_depth=depth) #  создание модели, указываю max_depth=depth \n",
    "    model.fit(features_train,target_train) #  обучение модели\n",
    "    predictions_valid = model.predict(features_valid) #  предсказание ответа на валидационной выборке \n",
    "\n",
    "    print(\"max_depth =\", depth, \": \", end='')\n",
    "    print(accuracy_score(target_valid, predictions_valid))"
   ]
  },
  {
   "cell_type": "markdown",
   "id": "c3f1e192",
   "metadata": {},
   "source": [
    "<b> Лучшее значение на глубине 6."
   ]
  },
  {
   "cell_type": "markdown",
   "id": "286fd67d",
   "metadata": {},
   "source": [
    "### - Случайный лес"
   ]
  },
  {
   "cell_type": "code",
   "execution_count": 19,
   "id": "6c11cf73",
   "metadata": {},
   "outputs": [
    {
     "name": "stdout",
     "output_type": "stream",
     "text": [
      "Accuracy наилучшей модели на валидационной выборке: 0.8595\n",
      "Accuracy наилучшей модели на валидационной выборке: 0.86\n",
      "Accuracy наилучшей модели на валидационной выборке: 0.8605\n",
      "Wall time: 15 s\n"
     ]
    }
   ],
   "source": [
    "%%time\n",
    "best_model_forest = None\n",
    "best_result = 0\n",
    "for est in range(50, 351, 50):\n",
    "    model = RandomForestClassifier(random_state=12345, n_estimators=est) # создание модели с заданным количеством деревьев\n",
    "    model.fit(features_train, target_train) # обучение модели на тренировочной выборке\n",
    "    result = model.score(features_valid, target_valid) # расчёт качества модели на валидационной выборке\n",
    "    if result > best_result:\n",
    "        best_model_forest= model# сохранение наилучшой модели\n",
    "        best_result = result # сохранение наилучшего значения метрики accuracy на валидационных данных\n",
    "        print(\"Accuracy наилучшей модели на валидационной выборке:\", best_result)"
   ]
  },
  {
   "cell_type": "markdown",
   "id": "0640b736",
   "metadata": {},
   "source": [
    "### - Логическая регрессия"
   ]
  },
  {
   "cell_type": "code",
   "execution_count": 20,
   "id": "06147022",
   "metadata": {},
   "outputs": [
    {
     "name": "stdout",
     "output_type": "stream",
     "text": [
      "Wall time: 170 ms\n"
     ]
    },
    {
     "data": {
      "text/plain": [
       "0.7902"
      ]
     },
     "execution_count": 20,
     "metadata": {},
     "output_type": "execute_result"
    }
   ],
   "source": [
    "%%time\n",
    "model = LogisticRegression(random_state=12345, solver = 'lbfgs', max_iter = 100)\n",
    "            # создание модель с заданными параметрами, возьмем количество итераций по умолчанию\n",
    "model.fit(features_train, target_train)\n",
    "model_predict = model.predict(features_valid)\n",
    "model.score(features, target)"
   ]
  },
  {
   "cell_type": "markdown",
   "id": "35b4bd94",
   "metadata": {},
   "source": [
    "<b> Результат ниже, чем у двух предыдущих."
   ]
  },
  {
   "cell_type": "markdown",
   "id": "8df10716",
   "metadata": {},
   "source": [
    "## Рассмотрение значения полноты, точности моделей, F1\n",
    "\n",
    "Начну с дерева"
   ]
  },
  {
   "cell_type": "markdown",
   "id": "ff6152f8",
   "metadata": {},
   "source": [
    "<b> Если решается задача бинарной классификации, разумное значение AUC должно быть > 0.5. У хорошей модели классификации показатель AUC > 0.9"
   ]
  },
  {
   "cell_type": "markdown",
   "id": "27001b3e",
   "metadata": {},
   "source": [
    "<b>  F-мера — среднее гармоническое precision и recall "
   ]
  },
  {
   "cell_type": "code",
   "execution_count": 21,
   "id": "49b95721",
   "metadata": {},
   "outputs": [
    {
     "name": "stdout",
     "output_type": "stream",
     "text": [
      "Дерево\n",
      "Точность 0.7685589519650655\n",
      "Полнота 0.42105263157894735\n",
      "F1- мера 0.5440494590417311\n",
      "\n",
      "Wall time: 55 ms\n"
     ]
    }
   ],
   "source": [
    "%%time\n",
    "import sklearn.metrics\n",
    "model = DecisionTreeClassifier(random_state=20052020, max_depth=7)\n",
    "model.fit(features_train, target_train)\n",
    "predicted_valid = model.predict(features_valid)\n",
    "print('Дерево')\n",
    "print('Точность', sklearn.metrics.precision_score(target_valid, predicted_valid))\n",
    "print('Полнота', sklearn.metrics.recall_score(target_valid, predicted_valid))\n",
    "print('F1- мера', sklearn.metrics.f1_score(target_valid, predicted_valid))\n",
    "print()"
   ]
  },
  {
   "cell_type": "markdown",
   "id": "742b815f",
   "metadata": {},
   "source": [
    "Теперь случайный лес"
   ]
  },
  {
   "cell_type": "code",
   "execution_count": 22,
   "id": "f91cfe7c",
   "metadata": {},
   "outputs": [
    {
     "name": "stdout",
     "output_type": "stream",
     "text": [
      "Случайный лес\n",
      "Точность 0.7626459143968871\n",
      "Полнота 0.4688995215311005\n",
      "F1- мера 0.5807407407407408\n",
      "\n",
      "Wall time: 1.39 s\n"
     ]
    }
   ],
   "source": [
    "%%time\n",
    "\n",
    "model = RandomForestClassifier(random_state=12345, n_estimators=100)\n",
    "model.fit(features_train, target_train)\n",
    "\n",
    "predicted_valid = model.predict(features_valid)\n",
    "print('Случайный лес')\n",
    "print('Точность', sklearn.metrics.precision_score(target_valid, predicted_valid))\n",
    "print('Полнота', sklearn.metrics.recall_score(target_valid, predicted_valid))\n",
    "print('F1- мера', sklearn.metrics.f1_score(target_valid, predicted_valid))\n",
    "print()"
   ]
  },
  {
   "cell_type": "markdown",
   "id": "796f37cd",
   "metadata": {},
   "source": [
    "И осталась модель Логическая регрессия"
   ]
  },
  {
   "cell_type": "code",
   "execution_count": 23,
   "id": "b50fa6a4",
   "metadata": {},
   "outputs": [
    {
     "name": "stdout",
     "output_type": "stream",
     "text": [
      "Логическая регрессия\n",
      "Точность 0.3387096774193548\n",
      "Полнота 0.050239234449760764\n",
      "F1- мера 0.08750000000000001\n",
      "\n",
      "Wall time: 119 ms\n"
     ]
    }
   ],
   "source": [
    "%%time\n",
    "\n",
    "model = LogisticRegression(random_state=12345, solver = 'lbfgs', max_iter = 100)\n",
    "model.fit(features_train, target_train)\n",
    "predicted_valid = model.predict(features_valid)\n",
    "\n",
    "print('Логическая регрессия')\n",
    "print('Точность', sklearn.metrics.precision_score(target_valid, predicted_valid))\n",
    "print('Полнота', sklearn.metrics.recall_score(target_valid, predicted_valid))\n",
    "print('F1- мера', sklearn.metrics.f1_score(target_valid, predicted_valid))\n",
    "print()"
   ]
  },
  {
   "cell_type": "markdown",
   "id": "7ae77da4",
   "metadata": {},
   "source": [
    "### Модель Дерево"
   ]
  },
  {
   "cell_type": "code",
   "execution_count": 24,
   "id": "49ef2beb",
   "metadata": {},
   "outputs": [
    {
     "name": "stdout",
     "output_type": "stream",
     "text": [
      "auc_roc 0.818761757571725\n"
     ]
    },
    {
     "data": {
      "image/png": "[encoded data removed]",
      "text/plain": [
       "<Figure size 640x480 with 1 Axes>"
      ]
     },
     "metadata": {},
     "output_type": "display_data"
    }
   ],
   "source": [
    "from sklearn.datasets import make_classification\n",
    "from sklearn.linear_model import LogisticRegression\n",
    "from sklearn.model_selection import train_test_split\n",
    "from sklearn.metrics import roc_curve, auc\n",
    "from sklearn.metrics import roc_auc_score\n",
    "from matplotlib import pyplot as plt\n",
    "\n",
    "model = DecisionTreeClassifier(random_state=20052020, max_depth=7)\n",
    "model.fit(features_train, target_train)\n",
    "probabilities_valid = model.predict_proba(features_valid)\n",
    "probabilities_one_valid = probabilities_valid[:, 1]\n",
    "\n",
    "fpr, tpr, thresholds = roc_curve(target_valid, probabilities_one_valid)\n",
    "auc_roc = roc_auc_score(target_valid, probabilities_one_valid)\n",
    "plt.figure()\n",
    "plt.plot([0, 1], [0, 1], linestyle='--')\n",
    "plt.plot(fpr, tpr)\n",
    "plt.xlim([0.0, 1.0])\n",
    "plt.ylim([0.0, 1.0])\n",
    "plt.xlabel('False Positive Rate')\n",
    "plt.ylabel('True Positive Rate')\n",
    "plt.title('ROC-кривая')\n",
    "print('auc_roc', auc_roc)\n",
    "\n",
    "plt.show()"
   ]
  },
  {
   "cell_type": "markdown",
   "id": "e3e5735d",
   "metadata": {},
   "source": [
    "### Модель Случайный лес"
   ]
  },
  {
   "cell_type": "code",
   "execution_count": 25,
   "id": "3d861bd7",
   "metadata": {},
   "outputs": [
    {
     "name": "stdout",
     "output_type": "stream",
     "text": [
      "auc_roc 0.8424114893025\n"
     ]
    },
    {
     "data": {
      "image/png": "[encoded data removed]",
      "text/plain": [
       "<Figure size 640x480 with 1 Axes>"
      ]
     },
     "metadata": {},
     "output_type": "display_data"
    }
   ],
   "source": [
    "model = RandomForestClassifier(random_state=12345, n_estimators=100)\n",
    "model.fit(features_train, target_train)\n",
    "probabilities_valid = model.predict_proba(features_valid)\n",
    "probabilities_one_valid = probabilities_valid[:, 1]\n",
    "fpr, tpr, thresholds = roc_curve(target_valid, probabilities_one_valid)\n",
    "auc_roc = roc_auc_score(target_valid, probabilities_one_valid)\n",
    "plt.figure()\n",
    "plt.plot([0, 1], [0, 1], linestyle='--')\n",
    "plt.plot(fpr, tpr)\n",
    "plt.xlim([0.0, 1.0])\n",
    "plt.ylim([0.0, 1.0])\n",
    "plt.xlabel('False Positive Rate')\n",
    "plt.ylabel('True Positive Rate')\n",
    "plt.title('ROC-кривая')\n",
    "print('auc_roc', auc_roc)\n",
    "plt.show()"
   ]
  },
  {
   "cell_type": "markdown",
   "id": "2d2f504c",
   "metadata": {},
   "source": [
    "### Модель Логическая регрессия"
   ]
  },
  {
   "cell_type": "code",
   "execution_count": 26,
   "id": "27281288",
   "metadata": {},
   "outputs": [
    {
     "name": "stdout",
     "output_type": "stream",
     "text": [
      "auc_roc 0.6736022477755128\n"
     ]
    },
    {
     "data": {
      "image/png": "[encoded data removed]",
      "text/plain": [
       "<Figure size 640x480 with 1 Axes>"
      ]
     },
     "metadata": {},
     "output_type": "display_data"
    }
   ],
   "source": [
    "model = LogisticRegression(random_state=12345, solver = 'lbfgs', max_iter = 100)\n",
    "model.fit(features_train, target_train)\n",
    "probabilities_valid = model.predict_proba(features_valid)\n",
    "probabilities_one_valid = probabilities_valid[:, 1]\n",
    "fpr, tpr, thresholds = roc_curve(target_valid, probabilities_one_valid)\n",
    "auc_roc = roc_auc_score(target_valid, probabilities_one_valid)\n",
    "plt.figure()\n",
    "plt.plot([0, 1], [0, 1], linestyle='--')\n",
    "plt.plot(fpr, tpr)\n",
    "plt.xlim([0.0, 1.0])\n",
    "plt.ylim([0.0, 1.0])\n",
    "plt.xlabel('False Positive Rate')\n",
    "plt.ylabel('True Positive Rate')\n",
    "plt.title('ROC-кривая')\n",
    "print('auc_roc', auc_roc)\n",
    "plt.show()"
   ]
  },
  {
   "cell_type": "markdown",
   "id": "96339582",
   "metadata": {},
   "source": [
    "<b> Судя по графикам, кривая ошибок выше у модели _Случайный лес_. Это значит, что истинно-положительных ответов у нее больше, соответсвенно и качество лучше."
   ]
  },
  {
   "cell_type": "markdown",
   "id": "661843d6",
   "metadata": {},
   "source": [
    "## Борьба с дисбалансом"
   ]
  },
  {
   "cell_type": "markdown",
   "id": "049eaded",
   "metadata": {},
   "source": [
    "<b> Сначала стандартизирую численные признаки. Импортирую StandardScaler из модуля sklearn.preprocessing.\n",
    "Создам объект структуры StandardScaler() и настрою его на обучающих данных. <b>"
   ]
  },
  {
   "cell_type": "code",
   "execution_count": 27,
   "id": "decb488e",
   "metadata": {},
   "outputs": [
    {
     "name": "stdout",
     "output_type": "stream",
     "text": [
      "      CreditScore       Age    Tenure   Balance  NumOfProducts  HasCrCard  \\\n",
      "7479    -0.886751 -0.373192  1.104696  1.232271      -0.891560   0.642466   \n",
      "3411     0.608663 -0.183385  1.104696  0.600563      -0.891560  -1.556504   \n",
      "6027     2.052152  0.480939 -0.503694  1.027098       0.830152  -1.556504   \n",
      "1247    -1.457915 -1.417129  0.461340 -1.233163       0.830152   0.642466   \n",
      "3716     0.130961 -1.132419 -0.825373  1.140475      -0.891560  -1.556504   \n",
      "\n",
      "      IsActiveMember  EstimatedSalary  Geography_Germany  Geography_Spain  \\\n",
      "7479       -1.055187        -0.187705                  0                1   \n",
      "3411       -1.055187        -0.333945                  0                0   \n",
      "6027        0.947699         1.503095                  1                0   \n",
      "1247       -1.055187        -1.071061                  0                0   \n",
      "3716       -1.055187         1.524268                  1                0   \n",
      "\n",
      "      Gender_Male  \n",
      "7479            1  \n",
      "3411            0  \n",
      "6027            1  \n",
      "1247            1  \n",
      "3716            0  \n"
     ]
    }
   ],
   "source": [
    "numeric = ['CreditScore', 'Age', 'Tenure', 'Balance', 'NumOfProducts', 'HasCrCard', 'IsActiveMember', 'EstimatedSalary']\n",
    "\n",
    "scaler = StandardScaler()\n",
    "scaler.fit(features_train[numeric]) \n",
    "features_train[numeric] = scaler.transform(features_train[numeric])\n",
    "features_valid[numeric]= scaler.transform(features_valid[numeric]) \n",
    "features_test[numeric]= scaler.transform(features_test[numeric]) \n",
    "print(features_train.head())"
   ]
  },
  {
   "cell_type": "markdown",
   "id": "7dfcbcef",
   "metadata": {},
   "source": [
    "Cравние моделей:\n",
    "1. Со взвешенными классами\n",
    "2. С увеличением выборки\n",
    "3. С уменьшением выборки"
   ]
  },
  {
   "cell_type": "code",
   "execution_count": 28,
   "id": "1a5b9c03",
   "metadata": {},
   "outputs": [
    {
     "name": "stdout",
     "output_type": "stream",
     "text": [
      "Дерево\n",
      "Точность 0.47676419965576594\n",
      "Полнота 0.6626794258373205\n",
      "F1- мера 0.5545545545545546\n",
      "\n",
      "Случайный лес\n",
      "Точность 0.7848101265822784\n",
      "Полнота 0.4449760765550239\n",
      "F1- мера 0.56793893129771\n",
      "\n",
      "Логическая регрессия\n",
      "Точность 0.3803191489361702\n",
      "Полнота 0.6842105263157895\n",
      "F1- мера 0.4888888888888888\n",
      "\n"
     ]
    }
   ],
   "source": [
    "# Взвешивание классов\n",
    "\n",
    "model = DecisionTreeClassifier(random_state=20052020, max_depth=7, class_weight='balanced')\n",
    "model.fit(features_train, target_train)\n",
    "predicted_valid = model.predict(features_valid)\n",
    "print('Дерево')\n",
    "print('Точность', precision_score(target_valid, predicted_valid))\n",
    "print('Полнота', recall_score(target_valid, predicted_valid))\n",
    "print('F1- мера', f1_score(target_valid, predicted_valid))\n",
    "print()\n",
    "\n",
    "\n",
    "model = RandomForestClassifier(random_state=12345, n_estimators=100, class_weight='balanced' ) \n",
    "model.fit(features_train, target_train) \n",
    "\n",
    "predicted_valid = model.predict(features_valid)\n",
    "print('Случайный лес')\n",
    "print('Точность', precision_score(target_valid, predicted_valid))\n",
    "print('Полнота', recall_score(target_valid, predicted_valid))\n",
    "print('F1- мера', f1_score(target_valid, predicted_valid))\n",
    "print()\n",
    "\n",
    "\n",
    "model = LogisticRegression(random_state=12345, solver = 'lbfgs', max_iter = 100, class_weight='balanced')\n",
    "model.fit(features_train, target_train)\n",
    "predicted_valid = model.predict(features_valid)\n",
    "print('Логическая регрессия')\n",
    "print('Точность', precision_score(target_valid, predicted_valid))\n",
    "print('Полнота', recall_score(target_valid, predicted_valid))\n",
    "print('F1- мера', f1_score(target_valid, predicted_valid))\n",
    "print()"
   ]
  },
  {
   "cell_type": "markdown",
   "id": "62937c8e",
   "metadata": {},
   "source": [
    "<div class=\"alert alert-block alert-info\">\n",
    "<b> Самые явные изменения у Логической регрессии: Полнота и F-мера увеличились в несколько раз.</b>\n",
    "</div>"
   ]
  },
  {
   "cell_type": "code",
   "execution_count": 31,
   "id": "604e1386",
   "metadata": {},
   "outputs": [
    {
     "name": "stdout",
     "output_type": "stream",
     "text": [
      "(9588, 11)\n",
      "(9588,)\n",
      "0    4804\n",
      "1    4784\n",
      "Name: Exited, dtype: int64\n"
     ]
    }
   ],
   "source": [
    "#Теперь исследую увеличение выборки\n",
    "repeat = 4\n",
    "\n",
    "\n",
    "def upsample(features, target, repeat):\n",
    "  \n",
    "    features_zeros = features_train[target_train == 0]\n",
    "    features_ones = features_train[target_train == 1]\n",
    "    target_zeros = target_train[target_train == 0]\n",
    "    target_ones = target_train[target_train == 1]\n",
    "    features_upsampled = pd.concat([features_zeros] + [features_ones] * repeat)\n",
    "    target_upsampled = pd.concat([target_zeros] + [target_ones] * repeat)\n",
    "    features_upsampled, target_upsampled = shuffle (features_upsampled, target_upsampled, random_state=12345)\n",
    "\n",
    "    return features_upsampled, target_upsampled\n",
    "\n",
    "\n",
    "features_upsampled, target_upsampled = upsample(features_train, target_train, 4)\n",
    "\n",
    "print(features_upsampled.shape)\n",
    "print(target_upsampled.shape)\n",
    "print(target_upsampled.value_counts())"
   ]
  },
  {
   "cell_type": "code",
   "execution_count": 32,
   "id": "5a790ae4",
   "metadata": {},
   "outputs": [
    {
     "name": "stdout",
     "output_type": "stream",
     "text": [
      "Дерево\n",
      "Точность 0.4793103448275862\n",
      "Полнота 0.6650717703349283\n",
      "F1- мера 0.5571142284569138\n",
      "\n",
      "Случайный лес\n",
      "Точность 0.6756756756756757\n",
      "Полнота 0.5382775119617225\n",
      "F1- мера 0.5992010652463382\n",
      "\n",
      "Логическая регрессия\n",
      "Точность 0.3794940079893475\n",
      "Полнота 0.6818181818181818\n",
      "F1- мера 0.4875962360992301\n",
      "\n"
     ]
    }
   ],
   "source": [
    "\n",
    "model = DecisionTreeClassifier(random_state=20052020, max_depth=7)\n",
    "model.fit(features_upsampled, target_upsampled)\n",
    "predicted_valid = model.predict(features_valid)\n",
    "print('Дерево')\n",
    "print('Точность', precision_score(target_valid, predicted_valid))\n",
    "print('Полнота', recall_score(target_valid, predicted_valid))\n",
    "print('F1- мера', f1_score(target_valid, predicted_valid))\n",
    "print()\n",
    "\n",
    "\n",
    "model = RandomForestClassifier(random_state=12345, n_estimators=100) \n",
    "model.fit(features_upsampled, target_upsampled) \n",
    "\n",
    "predicted_valid = model.predict(features_valid)\n",
    "print('Случайный лес')\n",
    "print('Точность', precision_score(target_valid, predicted_valid))\n",
    "print('Полнота', recall_score(target_valid, predicted_valid))\n",
    "print('F1- мера', f1_score(target_valid, predicted_valid))\n",
    "print()\n",
    "\n",
    "\n",
    "model = LogisticRegression(random_state=12345, solver = 'lbfgs', max_iter = 100)\n",
    "model.fit(features_upsampled, target_upsampled)\n",
    "predicted_valid = model.predict(features_valid)\n",
    "print('Логическая регрессия')\n",
    "print('Точность', precision_score(target_valid, predicted_valid))\n",
    "print('Полнота', recall_score(target_valid, predicted_valid))\n",
    "print('F1- мера', f1_score(target_valid, predicted_valid))\n",
    "print()"
   ]
  },
  {
   "cell_type": "markdown",
   "id": "c1b908a8",
   "metadata": {},
   "source": [
    "<div class=\"alert alert-block alert-info\">\n",
    "<b> Показатели моделей Дерево и Случайный лес почти не изменились, показатели модели Логическая регрессия выросли, но в вслучае взвешивания классов рост оказался выше.\n",
    "    </div>"
   ]
  },
  {
   "cell_type": "code",
   "execution_count": 33,
   "id": "fb0e8f64",
   "metadata": {},
   "outputs": [
    {
     "name": "stdout",
     "output_type": "stream",
     "text": [
      "(2157, 11)\n",
      "(2157,)\n"
     ]
    }
   ],
   "source": [
    "#Теперь исследую уменьшение выборки\n",
    "fraction = 0.2\n",
    "def downsample(features, target, fraction):\n",
    "    features_zeros = features[target == 0]\n",
    "    features_ones = features[target == 1]\n",
    "    target_zeros = target[target == 0]\n",
    "    target_ones = target[target == 1]\n",
    "    features_downsampled = pd.concat(\n",
    "        [features_zeros.sample(frac=fraction, random_state=12345)] + [features_ones])\n",
    "    target_downsampled = pd.concat(\n",
    "        [target_zeros.sample(frac=fraction, random_state=12345)] + [target_ones])\n",
    "    features_downsampled, target_downsampled = shuffle (features_downsampled, \n",
    "                                                        target_downsampled, random_state=12345)\n",
    "    return features_downsampled, target_downsampled\n",
    "\n",
    "features_downsampled, target_downsampled = downsample(features_train, target_train, 0.2)\n",
    "\n",
    "print(features_downsampled.shape)\n",
    "print(target_downsampled.shape)\n"
   ]
  },
  {
   "cell_type": "code",
   "execution_count": 34,
   "id": "a5d736c1",
   "metadata": {},
   "outputs": [
    {
     "name": "stdout",
     "output_type": "stream",
     "text": [
      "Дерево\n",
      "Точность 0.3978622327790974\n",
      "Полнота 0.8014354066985646\n",
      "F1- мера 0.5317460317460317\n",
      "\n",
      "Случайный лес\n",
      "Точность 0.4336870026525199\n",
      "Полнота 0.7822966507177034\n",
      "F1- мера 0.5580204778156997\n",
      "\n",
      "Логическая регрессия\n",
      "Точность 0.3530751708428246\n",
      "Полнота 0.7416267942583732\n",
      "F1- мера 0.478395061728395\n",
      "\n"
     ]
    }
   ],
   "source": [
    "model = DecisionTreeClassifier(random_state=20052020, max_depth=7)\n",
    "model.fit(features_downsampled, target_downsampled)\n",
    "predicted_valid = model.predict(features_valid)\n",
    "print('Дерево')\n",
    "print('Точность', precision_score(target_valid, predicted_valid))\n",
    "print('Полнота', recall_score(target_valid, predicted_valid))\n",
    "print('F1- мера', f1_score(target_valid, predicted_valid))\n",
    "print()\n",
    "\n",
    "\n",
    "model = RandomForestClassifier(random_state=12345, n_estimators=100) \n",
    "model.fit(features_downsampled, target_downsampled) \n",
    "\n",
    "predicted_valid = model.predict(features_valid)\n",
    "print('Случайный лес')\n",
    "print('Точность', precision_score(target_valid, predicted_valid))\n",
    "print('Полнота', recall_score(target_valid, predicted_valid))\n",
    "print('F1- мера', f1_score(target_valid, predicted_valid))\n",
    "print()\n",
    "\n",
    "\n",
    "model = LogisticRegression(random_state=12345, solver = 'lbfgs', max_iter = 100)\n",
    "model.fit(features_downsampled, target_downsampled)\n",
    "predicted_valid = model.predict(features_valid)\n",
    "print('Логическая регрессия')\n",
    "print('Точность', precision_score(target_valid, predicted_valid))\n",
    "print('Полнота', recall_score(target_valid, predicted_valid))\n",
    "print('F1- мера', f1_score(target_valid, predicted_valid))\n",
    "print()"
   ]
  },
  {
   "cell_type": "markdown",
   "id": "816774dd",
   "metadata": {},
   "source": [
    "<div class=\"alert alert-block alert-info\">\n",
    "<b> Если сравнивать все значения F1 меры, то лучшее было еще до проведения дисбаланса. На модели Случайный лес при est=100 F1 -мера равна 0,580.\n",
    "        </div>"
   ]
  },
  {
   "cell_type": "markdown",
   "id": "23cdbf45",
   "metadata": {},
   "source": [
    "## Тестирование модели"
   ]
  },
  {
   "cell_type": "markdown",
   "id": "02e8e107",
   "metadata": {},
   "source": [
    "<b> Для тестирования выберe модель Случайный лес. Судя по графикам, кривая ошибок выше у модели Случайный лес. \n",
    "Это значит, что истинно-положительных ответов у нее больше, соответсвенно и качество лучше. \n",
    "На модели Случайный лес при est=100 F1 -мера равна 0,580 - пока это лучший результат в нашем исследовании\n",
    "\n",
    "<b> Методом \"научного тыка\" поэкспериментировали с гиперпараметрами на модели Случайный лес. \n",
    "Необходимое минимальное значение F1 -меры нашлось в диапазоне 280-282<b>"
   ]
  },
  {
   "cell_type": "code",
   "execution_count": 35,
   "id": "536344d2",
   "metadata": {},
   "outputs": [
    {
     "name": "stdout",
     "output_type": "stream",
     "text": [
      "est: 280 F1 0.6031746031746033\n",
      "est: 281 F1 0.6068601583113458\n",
      "est: 282 F1 0.6050198150594451\n",
      "est: 283 F1 0.6042216358839051\n",
      "est: 284 F1 0.6005291005291005\n",
      "Wall time: 19.7 s\n"
     ]
    }
   ],
   "source": [
    "%%time\n",
    "\n",
    "\n",
    "for est in range(280,285):\n",
    "    model = RandomForestClassifier(random_state=12345, n_estimators=est) \n",
    "    model.fit(features_upsampled, target_upsampled)\n",
    "    predicted_valid = model.predict(features_valid)\n",
    "\n",
    "\n",
    "    print(\"est:\", est ,'F1', f1_score(target_valid, predicted_valid))"
   ]
  },
  {
   "cell_type": "code",
   "execution_count": 36,
   "id": "704b22fb",
   "metadata": {},
   "outputs": [
    {
     "name": "stdout",
     "output_type": "stream",
     "text": [
      "accuracy 0.849\n",
      "Точность 0.6715976331360947\n",
      "Полнота 0.5430622009569378\n",
      "F1- мера 0.6005291005291005\n"
     ]
    }
   ],
   "source": [
    "print('accuracy', accuracy_score(target_valid, predicted_valid))\n",
    "print('Точность', precision_score(target_valid, predicted_valid))\n",
    "print('Полнота', recall_score(target_valid, predicted_valid))\n",
    "print('F1- мера', f1_score(target_valid, predicted_valid))"
   ]
  },
  {
   "cell_type": "code",
   "execution_count": 37,
   "id": "c60de1b3",
   "metadata": {},
   "outputs": [
    {
     "name": "stdout",
     "output_type": "stream",
     "text": [
      "accuracy 0.8395\n",
      "Точность 0.650887573964497\n",
      "Полнота 0.5200945626477541\n",
      "F1- мера 0.5781865965834427\n",
      "Wall time: 226 ms\n"
     ]
    }
   ],
   "source": [
    "%%time\n",
    "\n",
    "predicted_test = model.predict(features_test)\n",
    "\n",
    "\n",
    "print('accuracy', accuracy_score(target_test, predicted_test))\n",
    "print('Точность', precision_score(target_test, predicted_test))\n",
    "print('Полнота', recall_score(target_test, predicted_test))\n",
    "print('F1- мера', f1_score(target_test, predicted_test))"
   ]
  },
  {
   "cell_type": "code",
   "execution_count": 38,
   "id": "f9ea670d",
   "metadata": {},
   "outputs": [
    {
     "name": "stdout",
     "output_type": "stream",
     "text": [
      "auc_roc 0.8527045846693981\n"
     ]
    },
    {
     "data": {
      "image/png": "[encoded data removed]",
      "text/plain": [
       "<Figure size 640x480 with 1 Axes>"
      ]
     },
     "metadata": {},
     "output_type": "display_data"
    }
   ],
   "source": [
    "probabilities_test = model.predict_proba(features_test)\n",
    "probabilities_one_test = probabilities_test[:, 1]\n",
    "\n",
    "fpr, tpr, thresholds = roc_curve(target_test, probabilities_one_test)\n",
    "auc_roc = roc_auc_score(target_test, probabilities_one_test)\n",
    "plt.figure()\n",
    "plt.plot([0, 1], [0, 1], linestyle='--')\n",
    "\n",
    "plt.plot(fpr, tpr)\n",
    "plt.xlim([0.0, 1.0])\n",
    "plt.ylim([0.0, 1.0])\n",
    "plt.xlabel('False Positive Rate')\n",
    "plt.ylabel('True Positive Rate')\n",
    "plt.title('ROC-кривая')\n",
    "print('auc_roc', auc_roc)\n",
    "plt.show()"
   ]
  },
  {
   "cell_type": "markdown",
   "id": "c024e60f",
   "metadata": {},
   "source": [
    "## Вывод:"
   ]
  },
  {
   "cell_type": "markdown",
   "id": "436879c8",
   "metadata": {},
   "source": [
    "<div class=\"alert alert-block alert-info\">\n",
    "<b> В данном исследовании были изучены и подготовлены данные, Исследовал баланс классов и обучил модель сначала без учета дизбаланса, а потом и с учетом. Обнаружил, что при увеличении выборки модель случайного леса показывает наибольшее значение А1. Проверил на этой модели тестовую выборку. Значение F1-метрики на тестовой модели 0,589 а площадь под кривой 0,84, что приближается к 1, то есть доля истинно-положительных ответов достаточно высока.\n",
    "    </div>"
   ]
  },
  {
   "cell_type": "code",
   "execution_count": null,
   "id": "5b320509",
   "metadata": {},
   "outputs": [],
   "source": []
  }
 ],
 "metadata": {
  "kernelspec": {
   "display_name": "Python 3 (ipykernel)",
   "language": "python",
   "name": "python3"
  },
  "language_info": {
   "codemirror_mode": {
    "name": "ipython",
    "version": 3
   },
   "file_extension": ".py",
   "mimetype": "text/x-python",
   "name": "python",
   "nbconvert_exporter": "python",
   "pygments_lexer": "ipython3",
   "version": "3.9.13"
  }
 },
 "nbformat": 4,
 "nbformat_minor": 5
}
