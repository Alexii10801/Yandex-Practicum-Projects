{
 "cells": [
  {
   "cell_type": "markdown",
   "id": "cc31168b",
   "metadata": {},
   "source": [
    "# Проект: Рекомендация тарифов"
   ]
  },
  {
   "cell_type": "markdown",
   "id": "4d796521",
   "metadata": {},
   "source": [
    "## Описание проекта"
   ]
  },
  {
   "cell_type": "markdown",
   "id": "fd8cb149",
   "metadata": {},
   "source": [
    "Оператор мобильной связи «Мегалайн» выяснил: многие клиенты пользуются архивными тарифами. Они хотят построить систему, способную проанализировать поведение клиентов и предложить пользователям новый тариф: «Смарт» или «Ультра»."
   ]
  },
  {
   "cell_type": "markdown",
   "id": "9de56738",
   "metadata": {},
   "source": [
    "## Задача"
   ]
  },
  {
   "cell_type": "markdown",
   "id": "f04a171e",
   "metadata": {},
   "source": [
    "Нужно построить модель для задачи классификации, которая выберет подходящий тариф. Предобработка данных не понадобится. Чтобы сдать проект успешно, нужно довести долю правильных ответов по крайней мере до 0.75."
   ]
  },
  {
   "cell_type": "markdown",
   "id": "7920adfe",
   "metadata": {},
   "source": [
    "## Вывод"
   ]
  },
  {
   "cell_type": "markdown",
   "id": "bfbb7053",
   "metadata": {},
   "source": [
    "Исследовал качество разных моделей. Самое низкое значение accurasy получилось на модели логичкская регрессия. Самое высокое на модели случайный лес."
   ]
  },
  {
   "cell_type": "markdown",
   "id": "6f051bbd",
   "metadata": {},
   "source": [
    "## Открытие и изучение файла"
   ]
  },
  {
   "cell_type": "code",
   "execution_count": 1,
   "id": "26af2cf7",
   "metadata": {},
   "outputs": [
    {
     "data": {
      "text/html": [
       "<div>\n",
       "<style scoped>\n",
       "    .dataframe tbody tr th:only-of-type {\n",
       "        vertical-align: middle;\n",
       "    }\n",
       "\n",
       "    .dataframe tbody tr th {\n",
       "        vertical-align: top;\n",
       "    }\n",
       "\n",
       "    .dataframe thead th {\n",
       "        text-align: right;\n",
       "    }\n",
       "</style>\n",
       "<table border=\"1\" class=\"dataframe\">\n",
       "  <thead>\n",
       "    <tr style=\"text-align: right;\">\n",
       "      <th></th>\n",
       "      <th>calls</th>\n",
       "      <th>minutes</th>\n",
       "      <th>messages</th>\n",
       "      <th>mb_used</th>\n",
       "      <th>is_ultra</th>\n",
       "    </tr>\n",
       "  </thead>\n",
       "  <tbody>\n",
       "    <tr>\n",
       "      <th>0</th>\n",
       "      <td>40.0</td>\n",
       "      <td>311.90</td>\n",
       "      <td>83.0</td>\n",
       "      <td>19915.42</td>\n",
       "      <td>0</td>\n",
       "    </tr>\n",
       "    <tr>\n",
       "      <th>1</th>\n",
       "      <td>85.0</td>\n",
       "      <td>516.75</td>\n",
       "      <td>56.0</td>\n",
       "      <td>22696.96</td>\n",
       "      <td>0</td>\n",
       "    </tr>\n",
       "    <tr>\n",
       "      <th>2</th>\n",
       "      <td>77.0</td>\n",
       "      <td>467.66</td>\n",
       "      <td>86.0</td>\n",
       "      <td>21060.45</td>\n",
       "      <td>0</td>\n",
       "    </tr>\n",
       "    <tr>\n",
       "      <th>3</th>\n",
       "      <td>106.0</td>\n",
       "      <td>745.53</td>\n",
       "      <td>81.0</td>\n",
       "      <td>8437.39</td>\n",
       "      <td>1</td>\n",
       "    </tr>\n",
       "    <tr>\n",
       "      <th>4</th>\n",
       "      <td>66.0</td>\n",
       "      <td>418.74</td>\n",
       "      <td>1.0</td>\n",
       "      <td>14502.75</td>\n",
       "      <td>0</td>\n",
       "    </tr>\n",
       "    <tr>\n",
       "      <th>5</th>\n",
       "      <td>58.0</td>\n",
       "      <td>344.56</td>\n",
       "      <td>21.0</td>\n",
       "      <td>15823.37</td>\n",
       "      <td>0</td>\n",
       "    </tr>\n",
       "    <tr>\n",
       "      <th>6</th>\n",
       "      <td>57.0</td>\n",
       "      <td>431.64</td>\n",
       "      <td>20.0</td>\n",
       "      <td>3738.90</td>\n",
       "      <td>1</td>\n",
       "    </tr>\n",
       "    <tr>\n",
       "      <th>7</th>\n",
       "      <td>15.0</td>\n",
       "      <td>132.40</td>\n",
       "      <td>6.0</td>\n",
       "      <td>21911.60</td>\n",
       "      <td>0</td>\n",
       "    </tr>\n",
       "    <tr>\n",
       "      <th>8</th>\n",
       "      <td>7.0</td>\n",
       "      <td>43.39</td>\n",
       "      <td>3.0</td>\n",
       "      <td>2538.67</td>\n",
       "      <td>1</td>\n",
       "    </tr>\n",
       "    <tr>\n",
       "      <th>9</th>\n",
       "      <td>90.0</td>\n",
       "      <td>665.41</td>\n",
       "      <td>38.0</td>\n",
       "      <td>17358.61</td>\n",
       "      <td>0</td>\n",
       "    </tr>\n",
       "  </tbody>\n",
       "</table>\n",
       "</div>"
      ],
      "text/plain": [
       "   calls  minutes  messages   mb_used  is_ultra\n",
       "0   40.0   311.90      83.0  19915.42         0\n",
       "1   85.0   516.75      56.0  22696.96         0\n",
       "2   77.0   467.66      86.0  21060.45         0\n",
       "3  106.0   745.53      81.0   8437.39         1\n",
       "4   66.0   418.74       1.0  14502.75         0\n",
       "5   58.0   344.56      21.0  15823.37         0\n",
       "6   57.0   431.64      20.0   3738.90         1\n",
       "7   15.0   132.40       6.0  21911.60         0\n",
       "8    7.0    43.39       3.0   2538.67         1\n",
       "9   90.0   665.41      38.0  17358.61         0"
      ]
     },
     "execution_count": 1,
     "metadata": {},
     "output_type": "execute_result"
    }
   ],
   "source": [
    "import pandas as pd\n",
    "from sklearn.tree import DecisionTreeRegressor\n",
    "from sklearn.ensemble import RandomForestRegressor\n",
    "from sklearn.linear_model import LinearRegression\n",
    "from sklearn.model_selection import train_test_split\n",
    "from sklearn.metrics import mean_squared_error\n",
    "from sklearn.tree import DecisionTreeClassifier\n",
    "from sklearn.metrics import accuracy_score\n",
    "from sklearn.ensemble import RandomForestClassifier\n",
    "from sklearn.model_selection import train_test_split\n",
    "from joblib import dump\n",
    "from sklearn.linear_model import LogisticRegression\n",
    "\n",
    "df = pd.read_csv('users_behavior.csv')\n",
    "df.head(10)"
   ]
  },
  {
   "cell_type": "code",
   "execution_count": 2,
   "id": "ad4301d8",
   "metadata": {},
   "outputs": [
    {
     "name": "stdout",
     "output_type": "stream",
     "text": [
      "<class 'pandas.core.frame.DataFrame'>\n",
      "RangeIndex: 3214 entries, 0 to 3213\n",
      "Data columns (total 5 columns):\n",
      " #   Column    Non-Null Count  Dtype  \n",
      "---  ------    --------------  -----  \n",
      " 0   calls     3214 non-null   float64\n",
      " 1   minutes   3214 non-null   float64\n",
      " 2   messages  3214 non-null   float64\n",
      " 3   mb_used   3214 non-null   float64\n",
      " 4   is_ultra  3214 non-null   int64  \n",
      "dtypes: float64(4), int64(1)\n",
      "memory usage: 125.7 KB\n"
     ]
    }
   ],
   "source": [
    "df.info()"
   ]
  },
  {
   "cell_type": "code",
   "execution_count": 3,
   "id": "b52363f2",
   "metadata": {},
   "outputs": [
    {
     "data": {
      "text/plain": [
       "calls       0\n",
       "minutes     0\n",
       "messages    0\n",
       "mb_used     0\n",
       "is_ultra    0\n",
       "dtype: int64"
      ]
     },
     "execution_count": 3,
     "metadata": {},
     "output_type": "execute_result"
    }
   ],
   "source": [
    "df.isna().sum()"
   ]
  },
  {
   "cell_type": "markdown",
   "id": "81277897",
   "metadata": {},
   "source": [
    "Все библиотеки загрузил, файл открыл. С типами данных все в порядке, пропусков нет, дубликатов нет."
   ]
  },
  {
   "cell_type": "markdown",
   "id": "7d568373",
   "metadata": {},
   "source": [
    "# Разбивка данных на выборки\n",
    "Разбиваю данные на выборки: Обучающую, валидационную, тестовую в соотношении 60-20-20 соотвественно."
   ]
  },
  {
   "cell_type": "code",
   "execution_count": 4,
   "id": "95e4976c",
   "metadata": {},
   "outputs": [],
   "source": [
    "# Создание переменной для признаков и целевого признака\n",
    "features = df.drop(['is_ultra'], axis=1)\n",
    "\n",
    "target = df['is_ultra']"
   ]
  },
  {
   "cell_type": "code",
   "execution_count": 5,
   "id": "038ae4c0",
   "metadata": {},
   "outputs": [],
   "source": [
    "# деление выборки на train, valid на 0,6 и 0,4 соответственно\n",
    "\n",
    "features_train, features_valid, target_train, target_valid = train_test_split(features,target, test_size=0.4, random_state=12345,stratify=target)"
   ]
  },
  {
   "cell_type": "code",
   "execution_count": 6,
   "id": "05204ee8",
   "metadata": {},
   "outputs": [
    {
     "name": "stdout",
     "output_type": "stream",
     "text": [
      "(1928, 4) (643, 4) (643, 4)\n",
      "(1928,) (643,) (643,)\n"
     ]
    }
   ],
   "source": [
    "# деление выборки valid на valid и test пополам\n",
    "\n",
    "features_valid, features_test, target_valid, target_test = train_test_split(features_valid,target_valid, test_size=0.5, random_state=12345,stratify=target_valid)\n",
    "\n",
    "print(features_train.shape, features_valid.shape, features_test.shape)\n",
    "\n",
    "print(target_train.shape, target_valid.shape, target_test.shape)"
   ]
  },
  {
   "cell_type": "markdown",
   "id": "2565becb",
   "metadata": {},
   "source": [
    "## Исследование модели: \n",
    "- Дерево \n",
    "- Случайный лес \n",
    "- Логическая регрессия"
   ]
  },
  {
   "cell_type": "markdown",
   "id": "bb109ec8",
   "metadata": {},
   "source": [
    "Исследование модель <b> Дерево"
   ]
  },
  {
   "cell_type": "code",
   "execution_count": 26,
   "id": "ec160a45",
   "metadata": {},
   "outputs": [
    {
     "name": "stdout",
     "output_type": "stream",
     "text": [
      "max_depth = 1 : 0.7402799377916018\n",
      "max_depth = 2 : 0.7729393468118196\n",
      "max_depth = 3 : 0.7776049766718507\n",
      "max_depth = 4 : 0.7542768273716952\n",
      "max_depth = 5 : 0.7853810264385692\n",
      "max_depth = 6 : 0.7744945567651633\n",
      "max_depth = 7 : 0.7869362363919129\n",
      "max_depth = 8 : 0.80248833592535\n",
      "max_depth = 9 : 0.7822706065318819\n",
      "max_depth = 10 : 0.7729393468118196\n",
      "max_depth = 11 : 0.7620528771384136\n",
      "max_depth = 12 : 0.7527216174183515\n",
      "max_depth = 13 : 0.744945567651633\n",
      "max_depth = 14 : 0.7558320373250389\n"
     ]
    }
   ],
   "source": [
    "for depth in range(1, 15):\n",
    "    model = DecisionTreeClassifier(random_state=12345, max_depth=depth) #  создание модели, указываю max_depth=depth \n",
    "    model.fit(features_train,target_train) #  обучение модели\n",
    "    predictions_valid = model.predict(features_valid) #  предсказание ответа на валидационной выборке \n",
    "\n",
    "    print(\"max_depth =\", depth, \": \", end='')\n",
    "    print(accuracy_score(target_valid, predictions_valid))\n",
    "best_model_forest = model"
   ]
  },
  {
   "cell_type": "markdown",
   "id": "a4684d2b",
   "metadata": {},
   "source": [
    "<b> Лучшее значение на глубине 8"
   ]
  },
  {
   "cell_type": "markdown",
   "id": "209cc670",
   "metadata": {},
   "source": [
    "Исследование модель <b> Cлучайный лес"
   ]
  },
  {
   "cell_type": "code",
   "execution_count": 17,
   "id": "5466d67b",
   "metadata": {},
   "outputs": [
    {
     "name": "stdout",
     "output_type": "stream",
     "text": [
      "Accuracy наилучшей модели на валидационной выборке: 0.7869362363919129\n"
     ]
    }
   ],
   "source": [
    "best_model = None\n",
    "best_result = 0\n",
    "for est in range(1, 11):\n",
    "    model = RandomForestClassifier(random_state=12345, n_estimators=est) # создание модели с заданным количеством деревьев\n",
    "    model.fit(features_train, target_train) # обучение модели на тренировочной выборке\n",
    "    result = model.score(features_valid, target_valid) # расчёт качества модели на валидационной выборке\n",
    "    if result > best_result:\n",
    "        best_model = model # сохранение наилучшой модели\n",
    "        best_result = result #  сохранение наилучшего значения метрики accuracy на валидационных данных\n",
    "\n",
    "print(\"Accuracy наилучшей модели на валидационной выборке:\", best_result)"
   ]
  },
  {
   "cell_type": "code",
   "execution_count": 19,
   "id": "25593f5a",
   "metadata": {},
   "outputs": [
    {
     "name": "stdout",
     "output_type": "stream",
     "text": [
      "Accuracy наилучшей модели на валидационной выборке: 0.7993779160186625\n"
     ]
    }
   ],
   "source": [
    "best_model = None\n",
    "best_result = 0\n",
    "for est in range(11, 30):\n",
    "    model = RandomForestClassifier(random_state=12345, n_estimators=est) # создание модели с заданным количеством деревьев\n",
    "    model.fit(features_train, target_train) # обучение модели на тренировочной выборке\n",
    "    result = model.score(features_valid, target_valid) # расчёт качества модели на валидационной выборке\n",
    "    if result > best_result:\n",
    "        best_model = model # сохранение наилучшой модели\n",
    "        best_result = result #  сохранение наилучшего значения метрики accuracy на валидационных данных\n",
    "\n",
    "print(\"Accuracy наилучшей модели на валидационной выборке:\", best_result)"
   ]
  },
  {
   "cell_type": "code",
   "execution_count": 20,
   "id": "a76a5f4d",
   "metadata": {},
   "outputs": [
    {
     "name": "stdout",
     "output_type": "stream",
     "text": [
      "Accuracy наилучшей модели на валидационной выборке: 0.8055987558320373\n"
     ]
    }
   ],
   "source": [
    "best_model = None\n",
    "best_result = 0\n",
    "for est in range(40, 50):\n",
    "    model = RandomForestClassifier(random_state=12345, n_estimators=est) # создание модели с заданным количеством деревьев\n",
    "    model.fit(features_train, target_train) # обучение модели на тренировочной выборке\n",
    "    result = model.score(features_valid, target_valid) # расчёт качества модели на валидационной выборке\n",
    "    if result > best_result:\n",
    "        best_model = model # сохранение наилучшой модели\n",
    "        best_result = result #  сохранение наилучшего значения метрики accuracy на валидационных данных\n",
    "\n",
    "print(\"Accuracy наилучшей модели на валидационной выборке:\", best_result)"
   ]
  },
  {
   "cell_type": "markdown",
   "id": "9004a99f",
   "metadata": {},
   "source": [
    " <b> Лучший результат лежит в диапазоне от 40-50."
   ]
  },
  {
   "cell_type": "markdown",
   "id": "44c65ef5",
   "metadata": {},
   "source": [
    "Исследование модель <b> Логическая регрессия"
   ]
  },
  {
   "cell_type": "code",
   "execution_count": 23,
   "id": "a226b29a",
   "metadata": {},
   "outputs": [
    {
     "data": {
      "text/plain": [
       "0.7476664592408214"
      ]
     },
     "execution_count": 23,
     "metadata": {},
     "output_type": "execute_result"
    }
   ],
   "source": [
    "model = LogisticRegression(random_state=12345, solver = 'lbfgs', max_iter = 100) \n",
    "              # создание модели с заданными параметрами, беру количество итераций по умолчанию \n",
    "model.fit(features_train, target_train)\n",
    "model_predict = model.predict(features_valid) \n",
    "model.score(features, target)"
   ]
  },
  {
   "cell_type": "markdown",
   "id": "f5c09260",
   "metadata": {},
   "source": [
    "<b> Ну, почти. Надо увеличить количество итераций"
   ]
  },
  {
   "cell_type": "code",
   "execution_count": 24,
   "id": "367b4c21",
   "metadata": {},
   "outputs": [
    {
     "data": {
      "text/plain": [
       "0.7476664592408214"
      ]
     },
     "execution_count": 24,
     "metadata": {},
     "output_type": "execute_result"
    }
   ],
   "source": [
    "model = LogisticRegression(random_state=12345, solver = 'lbfgs', max_iter = 200) \n",
    "              # создание модели с заданными параметрами, беру количество итераций по умолчанию \n",
    "model.fit(features_train, target_train)\n",
    "model_predict = model.predict(features_valid) \n",
    "model.score(features, target)"
   ]
  },
  {
   "cell_type": "markdown",
   "id": "fca56c62",
   "metadata": {},
   "source": [
    "<b> Ничего не изменилось. Оставим как есть."
   ]
  },
  {
   "cell_type": "markdown",
   "id": "5f45cf87",
   "metadata": {},
   "source": [
    "<b> Вывод: \n",
    "    \n",
    "- в этом разделе были исследованы качества разных моделей. \n",
    "- cамое низкое значение accurasy =0.8055987558320373 получилось на модели Логическая регрессия. \n",
    "- cамое высокое на модели Случайный лес = 0.7947122861586314."
   ]
  },
  {
   "cell_type": "markdown",
   "id": "c3bfa5e2",
   "metadata": {},
   "source": [
    "## Проверка модели на тестовой выборке"
   ]
  },
  {
   "cell_type": "code",
   "execution_count": 27,
   "id": "fa945852",
   "metadata": {},
   "outputs": [
    {
     "name": "stdout",
     "output_type": "stream",
     "text": [
      "Тестовая выборка: 0.7402799377916018\n"
     ]
    }
   ],
   "source": [
    "test_predictions = best_model_forest.predict(features_test)\n",
    "accuracy_score(target_test, test_predictions)\n",
    "\n",
    "print(\"Тестовая выборка:\", accuracy_score(target_test, test_predictions))"
   ]
  },
  {
   "cell_type": "markdown",
   "id": "7f648bdb",
   "metadata": {},
   "source": [
    "<b> Значение accurasy на тестовой модели уменьшилось."
   ]
  },
  {
   "cell_type": "markdown",
   "id": "d6b26975",
   "metadata": {},
   "source": [
    "## Проверка модели на адекватность"
   ]
  },
  {
   "cell_type": "code",
   "execution_count": 28,
   "id": "f8f314dc",
   "metadata": {},
   "outputs": [
    {
     "data": {
      "text/plain": [
       "0.6936236391912908"
      ]
     },
     "execution_count": 28,
     "metadata": {},
     "output_type": "execute_result"
    }
   ],
   "source": [
    "import numpy as np \n",
    "from sklearn.dummy import DummyClassifier\n",
    "\n",
    "dummy_clf = DummyClassifier ( strategy = \"most_frequent\" )\n",
    "dummy_clf . fit (features_train, target_train)\n",
    "DummyClassifier(strategy='most_frequent') \n",
    "dummy_clf . predict (features)\n",
    "dummy_clf . score (features_test, target_test)"
   ]
  },
  {
   "cell_type": "code",
   "execution_count": null,
   "id": "ab9426dc",
   "metadata": {},
   "outputs": [],
   "source": []
  }
 ],
 "metadata": {
  "kernelspec": {
   "display_name": "Python 3 (ipykernel)",
   "language": "python",
   "name": "python3"
  },
  "language_info": {
   "codemirror_mode": {
    "name": "ipython",
    "version": 3
   },
   "file_extension": ".py",
   "mimetype": "text/x-python",
   "name": "python",
   "nbconvert_exporter": "python",
   "pygments_lexer": "ipython3",
   "version": "3.9.13"
  }
 },
 "nbformat": 4,
 "nbformat_minor": 5
}
