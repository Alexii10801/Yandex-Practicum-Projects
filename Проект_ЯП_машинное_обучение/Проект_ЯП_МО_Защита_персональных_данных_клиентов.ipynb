{
 "cells": [
  {
   "cell_type": "markdown",
   "id": "d6e5dbeb",
   "metadata": {},
   "source": [
    "# Проект: Защита персональных данных клиентов"
   ]
  },
  {
   "cell_type": "markdown",
   "id": "df80ce94",
   "metadata": {},
   "source": [
    "## Описание проекта"
   ]
  },
  {
   "cell_type": "markdown",
   "id": "dda0baf6",
   "metadata": {},
   "source": [
    "В данном проекте нужно защитить данные клиентов страховой компании. Необходимо разработать такой метод преобразования данных, чтобы по ним было легко восстановить персональную информацию и обосновать корректность его работы.\n",
    "\n",
    "Нам нужно защитить данные, чтобы при преобразовании качество моделей машинного обучения не ухудшилось.\n",
    "\n",
    "Признаки: пол, возраст и зарплата застрахованного, количество членов его семьи. Целевой признак: количество страховых выплат клиенту за последние 5 лет."
   ]
  },
  {
   "cell_type": "markdown",
   "id": "7a4ef060",
   "metadata": {},
   "source": [
    "## План работы"
   ]
  },
  {
   "cell_type": "markdown",
   "id": "1c83c880",
   "metadata": {},
   "source": [
    "1. Загрузка данных\n",
    "2. Умножение матриц\n",
    "Ответить на вопрос: Признаки умножают на обратимую матрицу. Изменится ли качество линейной регрессии? a. Изменится. b. Не изменится.\n",
    "3. Алгоритм преобразования \n",
    "Предложить алгоритм преобразования данных для решения задачи. Обосновать, почему качество линейной регрессии не поменяется. Запрограммировать этот алгоритм, применив матричные операции. \n",
    "4. Проверка алгоритма\n",
    "Проверить, что качество линейной регрессии из sklearn не отличается до и после преобразования. Применить метрику R2."
   ]
  },
  {
   "cell_type": "markdown",
   "id": "05f70510",
   "metadata": {},
   "source": [
    "## Выводы:"
   ]
  },
  {
   "cell_type": "markdown",
   "id": "9c16415c",
   "metadata": {},
   "source": [
    "<b> Качество линейной регрессии не отличается до и после преобразования."
   ]
  },
  {
   "cell_type": "markdown",
   "id": "6b48c4a6",
   "metadata": {},
   "source": [
    "## 1. Загрузка данных"
   ]
  },
  {
   "cell_type": "code",
   "execution_count": 2,
   "id": "8f9deeb4",
   "metadata": {},
   "outputs": [],
   "source": [
    "import pandas as pd\n",
    "import numpy as np\n",
    "import matplotlib.pyplot as plt\n",
    "from sklearn.model_selection import train_test_split\n",
    "from sklearn.metrics import r2_score\n",
    "from numpy import linalg  as LA\n",
    "from sklearn.linear_model import LinearRegression"
   ]
  },
  {
   "cell_type": "code",
   "execution_count": 3,
   "id": "d6693db2",
   "metadata": {},
   "outputs": [],
   "source": [
    "data = pd.read_csv('insurance.csv')"
   ]
  },
  {
   "cell_type": "code",
   "execution_count": 4,
   "id": "aab9907e",
   "metadata": {},
   "outputs": [
    {
     "name": "stdout",
     "output_type": "stream",
     "text": [
      "<class 'pandas.core.frame.DataFrame'>\n",
      "RangeIndex: 5000 entries, 0 to 4999\n",
      "Data columns (total 5 columns):\n",
      " #   Column             Non-Null Count  Dtype  \n",
      "---  ------             --------------  -----  \n",
      " 0   Пол                5000 non-null   int64  \n",
      " 1   Возраст            5000 non-null   float64\n",
      " 2   Зарплата           5000 non-null   float64\n",
      " 3   Члены семьи        5000 non-null   int64  \n",
      " 4   Страховые выплаты  5000 non-null   int64  \n",
      "dtypes: float64(2), int64(3)\n",
      "memory usage: 195.4 KB\n"
     ]
    }
   ],
   "source": [
    "data.info()"
   ]
  },
  {
   "cell_type": "code",
   "execution_count": 5,
   "id": "c8fe48de",
   "metadata": {},
   "outputs": [],
   "source": [
    "data['Возраст'] = data['Возраст'].astype('int')\n",
    "data['Зарплата'] = data['Зарплата'].astype('int')"
   ]
  },
  {
   "cell_type": "code",
   "execution_count": 6,
   "id": "745df35d",
   "metadata": {},
   "outputs": [
    {
     "name": "stdout",
     "output_type": "stream",
     "text": [
      "<class 'pandas.core.frame.DataFrame'>\n",
      "RangeIndex: 5000 entries, 0 to 4999\n",
      "Data columns (total 5 columns):\n",
      " #   Column             Non-Null Count  Dtype\n",
      "---  ------             --------------  -----\n",
      " 0   Пол                5000 non-null   int64\n",
      " 1   Возраст            5000 non-null   int32\n",
      " 2   Зарплата           5000 non-null   int32\n",
      " 3   Члены семьи        5000 non-null   int64\n",
      " 4   Страховые выплаты  5000 non-null   int64\n",
      "dtypes: int32(2), int64(3)\n",
      "memory usage: 156.4 KB\n"
     ]
    }
   ],
   "source": [
    "data.info()"
   ]
  },
  {
   "cell_type": "code",
   "execution_count": 7,
   "id": "e8122abf",
   "metadata": {},
   "outputs": [
    {
     "data": {
      "text/plain": [
       "Пол                  0\n",
       "Возраст              0\n",
       "Зарплата             0\n",
       "Члены семьи          0\n",
       "Страховые выплаты    0\n",
       "dtype: int64"
      ]
     },
     "execution_count": 7,
     "metadata": {},
     "output_type": "execute_result"
    }
   ],
   "source": [
    "data.isna().sum()"
   ]
  },
  {
   "cell_type": "code",
   "execution_count": 8,
   "id": "644153eb",
   "metadata": {},
   "outputs": [
    {
     "data": {
      "text/plain": [
       "153"
      ]
     },
     "execution_count": 8,
     "metadata": {},
     "output_type": "execute_result"
    }
   ],
   "source": [
    "data.duplicated().sum()"
   ]
  },
  {
   "cell_type": "code",
   "execution_count": 9,
   "id": "3fc82441",
   "metadata": {},
   "outputs": [],
   "source": [
    "data = data.drop_duplicates()"
   ]
  },
  {
   "cell_type": "code",
   "execution_count": 10,
   "id": "33bbb2cf",
   "metadata": {},
   "outputs": [
    {
     "data": {
      "text/plain": [
       "0"
      ]
     },
     "execution_count": 10,
     "metadata": {},
     "output_type": "execute_result"
    }
   ],
   "source": [
    "data.duplicated().sum()"
   ]
  },
  {
   "cell_type": "code",
   "execution_count": 11,
   "id": "5561b3c7",
   "metadata": {
    "scrolled": true
   },
   "outputs": [
    {
     "data": {
      "image/png": "[encoded data removed]",
      "text/plain": [
       "<Figure size 640x480 with 1 Axes>"
      ]
     },
     "metadata": {},
     "output_type": "display_data"
    }
   ],
   "source": [
    "\n",
    "plt.hist(data['Страховые выплаты'], bins=30)\n",
    "plt.title('Страховые выплаты')\n",
    "plt.xlabel('Страховые выплаты')\n",
    "\n",
    "plt.show()"
   ]
  },
  {
   "cell_type": "markdown",
   "id": "88f87b82",
   "metadata": {},
   "source": [
    "<b> В данном разделе загрузил и изучил данные. \n",
    "Проверил на дубликаты, и удалил имеющиеся. \n",
    "Привел все данные к типу \"int\". \n",
    "Изучил целевой признак (страховые выплаты). Судя по гистограмме страховых выплат мало (меньше 500 это примерно 10%)"
   ]
  },
  {
   "cell_type": "markdown",
   "id": "a38996f0",
   "metadata": {},
   "source": [
    "## 2. Умножение матриц"
   ]
  },
  {
   "cell_type": "markdown",
   "id": "3c387dd1",
   "metadata": {},
   "source": [
    "Чтобы записать формулу внутри текста, окружите её символами доллара `$`; если  снаружи — двойными символами `$$`. Эти формулы записываются на языке вёрстки _LaTeX_.\n",
    "Для примера мы записали формулы линейной регрессии. Можете их скопировать и отредактировать, чтобы решить задачу."
   ]
  },
  {
   "cell_type": "markdown",
   "id": "e9741045",
   "metadata": {},
   "source": [
    "Обозначения:\n",
    "\n",
    "- $X$ — матрица признаков (нулевой столбец состоит из единиц)\n",
    "\n",
    "- $y$ — вектор целевого признака\n",
    "\n",
    "- $P$ — матрица, на которую умножаются признаки\n",
    "\n",
    "- $w$ — вектор весов линейной регрессии (нулевой элемент равен сдвигу)"
   ]
  },
  {
   "cell_type": "markdown",
   "id": "f2fb3f85",
   "metadata": {},
   "source": [
    "Предсказания:\n",
    "\n",
    "$$\n",
    "a = Xw\n",
    "$$\n",
    "\n",
    "Задача обучения:\n",
    "\n",
    "$$\n",
    "w = \\arg\\min_w MSE(Xw, y)\n",
    "$$\n",
    "\n",
    "Формула обучения:\n",
    "\n",
    "$$\n",
    "w = (X^T X)^{-1} X^T y\n",
    "$$"
   ]
  },
  {
   "cell_type": "markdown",
   "id": "b4953f5b",
   "metadata": {},
   "source": [
    "**Ответ**: При умножении матрицы признаков на обратимую матрицу, качество линейной регресии не изменится."
   ]
  },
  {
   "cell_type": "markdown",
   "id": "9c84ea8e",
   "metadata": {},
   "source": [
    "**Обоснование:** ...\n",
    "Предположим, что M обратима. Тогда\n",
    "Ax=b подразумевает MAx=Mb подразумевает M−1MAx=M−1Mb подразумевает Ax=b. \n",
    "M является обратимым. Тогда\n",
    "A x = b⟹ M A x = M b⟹M−1 M A x =M−1 M b⟹A x = b.\n",
    "\n",
    "Взято  из https://math.stackexchange.com/questions/2340563/how-to-prove-that-multiplying-the-equation-ax-b-from-the-left-with-invertibl"
   ]
  },
  {
   "cell_type": "markdown",
   "id": "a5c28ac9",
   "metadata": {},
   "source": [
    "## 3. Алгоритм преобразования"
   ]
  },
  {
   "cell_type": "markdown",
   "id": "4b7ba840",
   "metadata": {},
   "source": [
    "**Алгоритм**\n",
    "Задача проанализировать предложенный алгоритм преобразования данных и проверить предудыщий вывод - что качество линейной регрессии не поменяется. \n",
    "1. Генерирую произвольную обратимую матрицу\n",
    "2. Параметры линейной регрессии обозначаю в переменных (целевой признак, остальные признаки)\n",
    "3. Обучаю модель и найду значенние R2 на модели.\n",
    "4. Затем умножаю обратную матрицу на матрицу признаков.\n",
    "5. Обучаю модель на новых данных  и найду значение R2 на обученной модели\n",
    "6. В конце сравнваю результаты первоначальной и конечной метрик R2"
   ]
  },
  {
   "cell_type": "markdown",
   "id": "b4713451",
   "metadata": {},
   "source": [
    "**Обоснование**\n",
    "\n",
    "Умножаю признаки на произвольную обратимую матрицу и сравниваю результаты метрики R2 до умножения и после."
   ]
  },
  {
   "cell_type": "markdown",
   "id": "cb776616",
   "metadata": {},
   "source": [
    "## 4. Проверка алгоритма"
   ]
  },
  {
   "cell_type": "code",
   "execution_count": 12,
   "id": "723ba3fc",
   "metadata": {},
   "outputs": [],
   "source": [
    "# Удаляю столбец, создаю признаки и таргет\n",
    "features = data.drop('Страховые выплаты', axis=1).values\n",
    "target = data['Страховые выплаты'].values"
   ]
  },
  {
   "cell_type": "code",
   "execution_count": 13,
   "id": "13fad0df",
   "metadata": {},
   "outputs": [
    {
     "data": {
      "text/plain": [
       "array([[ 1.24371347,  0.05006826,  0.72077167,  0.08314298],\n",
       "       [ 0.66418467, -0.54199898,  1.41762804, -0.43890531],\n",
       "       [-0.7775328 , -0.45769605, -1.14683241, -0.29978527],\n",
       "       [ 0.15299112,  1.32768628,  1.18296022, -0.07685656]])"
      ]
     },
     "execution_count": 13,
     "metadata": {},
     "output_type": "execute_result"
    }
   ],
   "source": [
    "# Функция np.random.normal() находит нормальное распределение для случайных выборок.\n",
    "M_random =np.random.normal(size = (4,4)) \n",
    "M_random"
   ]
  },
  {
   "cell_type": "code",
   "execution_count": 14,
   "id": "a8188940",
   "metadata": {},
   "outputs": [
    {
     "data": {
      "text/plain": [
       "array([[ 1.31688605, -0.21370298,  0.65528621,  0.08899762],\n",
       "       [ 0.48282581, -0.42299205,  0.55958105,  0.75521043],\n",
       "       [-0.7865213 ,  0.46482037, -0.8773723 , -0.08304516],\n",
       "       [-1.14382353, -0.57810781, -2.53323177, -1.06615153]])"
      ]
     },
     "execution_count": 14,
     "metadata": {},
     "output_type": "execute_result"
    }
   ],
   "source": [
    "# инвертирую матрицу (вычисляю обратную (мультипликативную) матрицу).\n",
    "LA.inv(M_random)"
   ]
  },
  {
   "cell_type": "code",
   "execution_count": 15,
   "id": "09cea0c5",
   "metadata": {},
   "outputs": [
    {
     "name": "stdout",
     "output_type": "stream",
     "text": [
      "R2 на исходных признаках: 0.4302010046633359\n"
     ]
    }
   ],
   "source": [
    "model = LinearRegression()\n",
    "model.fit(features, target)\n",
    "predictions = model.predict(features)\n",
    "print('R2 на исходных признаках:',r2_score(target, predictions))"
   ]
  },
  {
   "cell_type": "code",
   "execution_count": 16,
   "id": "36795c26",
   "metadata": {},
   "outputs": [
    {
     "name": "stdout",
     "output_type": "stream",
     "text": [
      "R2 на преобразованных признаках: 0.43020100466334277\n"
     ]
    }
   ],
   "source": [
    "M_new = features @ M_random\n",
    "model.fit(M_new, target)\n",
    "predictions = model.predict(M_new)\n",
    "print('R2 на преобразованных признаках:',r2_score(target, predictions))"
   ]
  },
  {
   "cell_type": "markdown",
   "id": "6455af78",
   "metadata": {},
   "source": [
    "## Вывод: \n"
   ]
  },
  {
   "cell_type": "markdown",
   "id": "f0b250d9",
   "metadata": {},
   "source": [
    "<div class=\"alert alert-block alert-info\">\n",
    "Качество линейной регрессии не отличается до и после преобразования. Что и требовалось доказать.\n",
    "    </div>"
   ]
  },
  {
   "cell_type": "code",
   "execution_count": null,
   "id": "7d3d37e7",
   "metadata": {},
   "outputs": [],
   "source": []
  }
 ],
 "metadata": {
  "kernelspec": {
   "display_name": "Python 3 (ipykernel)",
   "language": "python",
   "name": "python3"
  },
  "language_info": {
   "codemirror_mode": {
    "name": "ipython",
    "version": 3
   },
   "file_extension": ".py",
   "mimetype": "text/x-python",
   "name": "python",
   "nbconvert_exporter": "python",
   "pygments_lexer": "ipython3",
   "version": "3.9.13"
  }
 },
 "nbformat": 4,
 "nbformat_minor": 5
}
