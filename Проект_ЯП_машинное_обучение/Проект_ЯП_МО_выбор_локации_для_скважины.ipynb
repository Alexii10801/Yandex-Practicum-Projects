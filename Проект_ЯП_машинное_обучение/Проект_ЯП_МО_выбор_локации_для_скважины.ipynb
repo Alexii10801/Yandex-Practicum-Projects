{
 "cells": [
  {
   "cell_type": "markdown",
   "id": "447db0ab",
   "metadata": {},
   "source": [
    "# Проект: Выбор локации для скважины"
   ]
  },
  {
   "cell_type": "markdown",
   "id": "4bd6fb92",
   "metadata": {},
   "source": [
    "## Описание проекта\n",
    "<b> Нужно решить, где бурить новую скважину. Шаги для выбора локации обычно такие:\n",
    "Шаги для выбора локации обычно такие:\n",
    "    \n",
    "* В избранном регионе собирают характеристики для скважин: качество нефти и объём её запасов;\n",
    "* Строят модель для предсказания объёма запасов в новых скважинах;\n",
    "* Выбирают скважины с самыми высокими оценками значений;\n",
    "* Определяют регион с максимальной суммарной прибылью отобранных скважин.\n",
    "    \n",
    "<b> Вам предоставлены пробы нефти в трёх регионах. Характеристики для каждой скважины в регионе уже известны. Постройте модель для определения региона, где добыча принесёт наибольшую прибыль. Проанализируйте возможную прибыль и риски техникой Bootstrap."
   ]
  },
  {
   "cell_type": "markdown",
   "id": "235a3d72",
   "metadata": {},
   "source": [
    "## Вывод:"
   ]
  },
  {
   "cell_type": "markdown",
   "id": "c5465ca0",
   "metadata": {},
   "source": [
    "<div class=\"alert alert-block alert-info\">\n",
    "Отсутствие прогнозируемых убытков наблюдаю только во втором регионе, что видно по значениям 2,5% квантиля. Левая граница, которая отделяет 2.5 % данных для 1-го и 3-го регионов принимает отрицательное значение, что говорит о том, что более 2.5 % выборок имеют отрицательную прибыль. По заданию исследования нужно оставить лишь те регионы, в которых вероятность убытков меньше 2,5%, это 2-ой регион. В связи с этим для дальнейшей работы рекомендуется оставить только второй регион.\n",
    "    </div>"
   ]
  },
  {
   "cell_type": "markdown",
   "id": "447c983c",
   "metadata": {},
   "source": [
    "## Введение и описание данных"
   ]
  },
  {
   "cell_type": "markdown",
   "id": "a0782caf",
   "metadata": {},
   "source": [
    "Условия задачи: Для обучения модели нам подходит только линейная регрессия (остальные — недостаточно предсказуемые). При разведке региона исследуют 500 точек, из которых с помощью машинного обучения выбирают 200 лучших для разработки. Бюджет на разработку скважин в регионе — 10 млрд рублей. При нынешних ценах один баррель сырья приносит 450 рублей дохода. Доход с каждой единицы продукта составляет 450 тыс. рублей, поскольку объём указан в тысячах баррелей. После оценки рисков оставим лишь те регионы, в которых вероятность убытков меньше 2.5%. Среди них выберем регион с наибольшей средней прибылью. Данные синтетические: детали контрактов и характеристики месторождений не разглашаются. Значения столбцов: id — уникальный идентификатор скважины; f0, f1, f2 — три признака точек (неважно, что они означают, но сами признаки значимы); product — объём запасов в скважине (тыс. баррелей)."
   ]
  },
  {
   "cell_type": "code",
   "execution_count": 2,
   "id": "c7e35305",
   "metadata": {},
   "outputs": [
    {
     "name": "stdout",
     "output_type": "stream",
     "text": [
      "      id        f0        f1        f2     product\n",
      "0  txEyH  0.705745 -0.497823  1.221170  105.280062\n",
      "1  2acmU  1.334711 -0.340164  4.365080   73.037750\n",
      "2  409Wp  1.022732  0.151990  1.419926   85.265647\n",
      "3  iJLyR -0.032172  0.139033  2.978566  168.620776\n",
      "4  Xdl7t  1.988431  0.155413  4.751769  154.036647\n",
      "      id         f0         f1        f2     product\n",
      "0  kBEdx -15.001348  -8.276000 -0.005876    3.179103\n",
      "1  62mP7  14.272088  -3.475083  0.999183   26.953261\n",
      "2  vyE1P   6.263187  -5.948386  5.001160  134.766305\n",
      "3  KcrkZ -13.081196 -11.506057  4.999415  137.945408\n",
      "4  AHL4O  12.702195  -8.147433  5.004363  134.766305\n",
      "      id        f0        f1        f2     product\n",
      "0  fwXo0 -1.146987  0.963328 -0.828965   27.758673\n",
      "1  WJtFt  0.262778  0.269839 -2.530187   56.069697\n",
      "2  ovLUW  0.194587  0.289035 -5.586433   62.871910\n",
      "3  q6cA6  2.236060 -0.553760  0.930038  114.572842\n",
      "4  WPMUX -0.515993  1.716266  5.899011  149.600746\n"
     ]
    }
   ],
   "source": [
    "import pandas as pd\n",
    "from sklearn.preprocessing import StandardScaler \n",
    "from sklearn.linear_model import LinearRegression\n",
    "from sklearn.model_selection import train_test_split\n",
    "from sklearn.metrics import mean_squared_error\n",
    "from sklearn.metrics import accuracy_score\n",
    "from joblib import dump\n",
    "from sklearn.linear_model import LogisticRegression \n",
    "import numpy as np\n",
    "from scipy import stats as st\n",
    "import warnings\n",
    "warnings.filterwarnings(\"ignore\")\n",
    "\n",
    "geo_data_0 = pd.read_csv('geo_data_0.csv')\n",
    "geo_data_1 = pd.read_csv('geo_data_1.csv')\n",
    "geo_data_2 = pd.read_csv('geo_data_2.csv')\n",
    "\n",
    "\n",
    "print(geo_data_0.head()) \n",
    "\n",
    "print(geo_data_1.head()) \n",
    "\n",
    "print(geo_data_2.head()) \n"
   ]
  },
  {
   "cell_type": "markdown",
   "id": "3ac657f3",
   "metadata": {},
   "source": [
    "<b> Поиск пропущенных значений в наборе данных"
   ]
  },
  {
   "cell_type": "code",
   "execution_count": 3,
   "id": "c30e1c4d",
   "metadata": {},
   "outputs": [
    {
     "data": {
      "text/plain": [
       "id         0\n",
       "f0         0\n",
       "f1         0\n",
       "f2         0\n",
       "product    0\n",
       "dtype: int64"
      ]
     },
     "execution_count": 3,
     "metadata": {},
     "output_type": "execute_result"
    }
   ],
   "source": [
    "geo_data_0.isna().sum()"
   ]
  },
  {
   "cell_type": "code",
   "execution_count": 4,
   "id": "ff625055",
   "metadata": {},
   "outputs": [
    {
     "data": {
      "text/plain": [
       "id         0\n",
       "f0         0\n",
       "f1         0\n",
       "f2         0\n",
       "product    0\n",
       "dtype: int64"
      ]
     },
     "execution_count": 4,
     "metadata": {},
     "output_type": "execute_result"
    }
   ],
   "source": [
    "geo_data_1.isna().sum()"
   ]
  },
  {
   "cell_type": "code",
   "execution_count": 5,
   "id": "344965be",
   "metadata": {},
   "outputs": [
    {
     "data": {
      "text/plain": [
       "id         0\n",
       "f0         0\n",
       "f1         0\n",
       "f2         0\n",
       "product    0\n",
       "dtype: int64"
      ]
     },
     "execution_count": 5,
     "metadata": {},
     "output_type": "execute_result"
    }
   ],
   "source": [
    "geo_data_2.isna().sum()"
   ]
  },
  {
   "cell_type": "markdown",
   "id": "66f28093",
   "metadata": {},
   "source": [
    "<b> Поиск дубликатов"
   ]
  },
  {
   "cell_type": "code",
   "execution_count": 6,
   "id": "566e3b43",
   "metadata": {},
   "outputs": [
    {
     "data": {
      "text/plain": [
       "0"
      ]
     },
     "execution_count": 6,
     "metadata": {},
     "output_type": "execute_result"
    }
   ],
   "source": [
    "geo_data_0.duplicated().sum()"
   ]
  },
  {
   "cell_type": "code",
   "execution_count": 7,
   "id": "7f93593c",
   "metadata": {},
   "outputs": [
    {
     "data": {
      "text/plain": [
       "0"
      ]
     },
     "execution_count": 7,
     "metadata": {},
     "output_type": "execute_result"
    }
   ],
   "source": [
    "geo_data_1.duplicated().sum()"
   ]
  },
  {
   "cell_type": "code",
   "execution_count": 8,
   "id": "76ce3ada",
   "metadata": {},
   "outputs": [
    {
     "data": {
      "text/plain": [
       "0"
      ]
     },
     "execution_count": 8,
     "metadata": {},
     "output_type": "execute_result"
    }
   ],
   "source": [
    "geo_data_2.duplicated().sum()"
   ]
  },
  {
   "cell_type": "code",
   "execution_count": 9,
   "id": "d60e2ddf",
   "metadata": {},
   "outputs": [],
   "source": [
    "# В столбце ID нет смысла и выглядит запутывающи, удаляю его.\n",
    "geo_data_0 = geo_data_0.drop(['id'], axis=1)\n",
    "geo_data_1 = geo_data_1.drop(['id'], axis=1)\n",
    "geo_data_2 = geo_data_2.drop(['id'], axis=1)"
   ]
  },
  {
   "cell_type": "code",
   "execution_count": 10,
   "id": "7eed7475",
   "metadata": {},
   "outputs": [
    {
     "name": "stdout",
     "output_type": "stream",
     "text": [
      "                  f0             f1             f2        product\n",
      "count  100000.000000  100000.000000  100000.000000  100000.000000\n",
      "mean        0.500419       0.250143       2.502647      92.500000\n",
      "std         0.871832       0.504433       3.248248      44.288691\n",
      "min        -1.408605      -0.848218     -12.088328       0.000000\n",
      "25%        -0.072580      -0.200881       0.287748      56.497507\n",
      "50%         0.502360       0.250252       2.515969      91.849972\n",
      "75%         1.073581       0.700646       4.715088     128.564089\n",
      "max         2.362331       1.343769      16.003790     185.364347\n",
      "                  f0             f1             f2        product\n",
      "count  100000.000000  100000.000000  100000.000000  100000.000000\n",
      "mean        1.141296      -4.796579       2.494541      68.825000\n",
      "std         8.965932       5.119872       1.703572      45.944423\n",
      "min       -31.609576     -26.358598      -0.018144       0.000000\n",
      "25%        -6.298551      -8.267985       1.000021      26.953261\n",
      "50%         1.153055      -4.813172       2.011479      57.085625\n",
      "75%         8.621015      -1.332816       3.999904     107.813044\n",
      "max        29.421755      18.734063       5.019721     137.945408\n",
      "                  f0             f1             f2        product\n",
      "count  100000.000000  100000.000000  100000.000000  100000.000000\n",
      "mean        0.002023      -0.002081       2.495128      95.000000\n",
      "std         1.732045       1.730417       3.473445      44.749921\n",
      "min        -8.760004      -7.084020     -11.970335       0.000000\n",
      "25%        -1.162288      -1.174820       0.130359      59.450441\n",
      "50%         0.009424      -0.009482       2.484236      94.925613\n",
      "75%         1.158535       1.163678       4.858794     130.595027\n",
      "max         7.238262       7.844801      16.739402     190.029838\n"
     ]
    }
   ],
   "source": [
    "print(geo_data_0.describe())\n",
    "\n",
    "print(geo_data_1.describe()) \n",
    "\n",
    "print(geo_data_2.describe()) "
   ]
  },
  {
   "cell_type": "markdown",
   "id": "53c142b4",
   "metadata": {},
   "source": [
    "## Обучение и проверка модели"
   ]
  },
  {
   "cell_type": "markdown",
   "id": "f2f8b601",
   "metadata": {},
   "source": [
    "Разбиваю данные на выборки: Обучающую, валидационную, тестовую в соотношении 75-25 соотвественно. \n",
    "Так как у признаков разный масштаб, то стандартизирую их! Импортирую StandardScaler из модуля sklearn.preprocessing. \n",
    "Далее помещаю все это в функцию."
   ]
  },
  {
   "cell_type": "code",
   "execution_count": 11,
   "id": "0e5d1ba6",
   "metadata": {},
   "outputs": [
    {
     "name": "stdout",
     "output_type": "stream",
     "text": [
      "(75000, 3) (75000,)\n",
      "(25000, 3) (25000,)\n",
      "(75000, 3) (75000,)\n",
      "(25000, 3) (25000,)\n",
      "(75000, 3) (75000,)\n",
      "(25000, 3) (25000,)\n"
     ]
    }
   ],
   "source": [
    "def i(geo_data):\n",
    "   \n",
    "    target = geo_data['product']\n",
    "    features = geo_data.drop('product', axis=1)\n",
    "    features_train, features_valid, target_train, target_valid = train_test_split(\n",
    "    features, target, test_size=0.25, random_state=12345)\n",
    "    \n",
    "    \n",
    "    numeric = ['f0', 'f1', 'f2']\n",
    "# Создаю объект структуры StandardScaler() и настраиваю его на обучающих данных. \n",
    "# Настройка — это вычисление среднего и дисперсии.    \n",
    "    scaler = StandardScaler()\n",
    "    scaler.fit(features_train[numeric])\n",
    "# Преобразую обучающую и валидационную выборки функцией transform(). Изменённые наборы сохраняю в переменных\n",
    "    features_train[numeric] = scaler.transform(features_train[numeric])\n",
    "    features_valid[numeric] = scaler.transform(features_valid[numeric])\n",
    "    \n",
    "    return features_train, features_valid, target_train, target_valid\n",
    "\n",
    "features_train_0, features_valid_0, target_train_0, target_valid_0 = i(geo_data_0) \n",
    "features_train_1, features_valid_1, target_train_1, target_valid_1 = i(geo_data_1)\n",
    "features_train_2, features_valid_2, target_train_2, target_valid_2 = i(geo_data_2)\n",
    "\n",
    "print(features_train_0.shape,  target_train_0.shape)\n",
    "print(features_valid_0.shape, target_valid_0.shape) \n",
    "\n",
    "print(features_train_1.shape,  target_train_1.shape)\n",
    "print(features_valid_1.shape, target_valid_1.shape) \n",
    "\n",
    "print(features_train_2.shape,  target_train_2.shape)\n",
    "print(features_valid_2.shape, target_valid_2.shape) "
   ]
  },
  {
   "cell_type": "markdown",
   "id": "7d18ab02",
   "metadata": {},
   "source": [
    "Обучаю модель и сделаю предсказания на валидационной выборке. Для обучения модели подходит только линейная регрессия(остальные недостаточно предсказуемые). Сохраню предсказания и ответы по каждому региону и выведу средний запас и RMSE модели по каждому региону. Корень из среднеквадратичной ошибки (Root Mean Squared Error)-Для того чтобы модель линейной регрессии можно было применять на практике необходимо сначала оценить её качество. "
   ]
  },
  {
   "cell_type": "code",
   "execution_count": 12,
   "id": "30cfc980",
   "metadata": {},
   "outputs": [
    {
     "name": "stdout",
     "output_type": "stream",
     "text": [
      "Linear Regression 0\n",
      "Mean = 92.59256778438005\n",
      "RMSE = 37.5794217150813\n"
     ]
    }
   ],
   "source": [
    "model = LinearRegression()\n",
    "model.fit(features_train_0, target_train_0)\n",
    "predictions_valid_0 = pd.Series(model.predict(features_valid_0))\n",
    "mse = mean_squared_error(target_valid_0, predictions_valid_0)\n",
    "RMSE_0=mse**0.5\n",
    "mean_predictions_valid_0 =predictions_valid_0.mean()\n",
    "\n",
    "print(\"Linear Regression 0\")\n",
    "print(\"Mean =\", mean_predictions_valid_0)\n",
    "print(\"RMSE =\", RMSE_0)"
   ]
  },
  {
   "cell_type": "code",
   "execution_count": 13,
   "id": "8c868dd4",
   "metadata": {},
   "outputs": [
    {
     "name": "stdout",
     "output_type": "stream",
     "text": [
      "Linear Regression 1\n",
      "Mean = 68.7285468954458\n",
      "RMSE = 0.8930992867756168\n"
     ]
    }
   ],
   "source": [
    "model = LinearRegression()\n",
    "model.fit(features_train_1, target_train_1)\n",
    "predictions_valid_1 = pd.Series(model.predict(features_valid_1))\n",
    "mse = mean_squared_error(target_valid_1, predictions_valid_1)\n",
    "RMSE_1=mse**0.5\n",
    "mean_predictions_valid_1 =predictions_valid_1.mean()\n",
    "\n",
    "print(\"Linear Regression 1\")\n",
    "print(\"Mean =\", mean_predictions_valid_1)\n",
    "print(\"RMSE =\", RMSE_1)"
   ]
  },
  {
   "cell_type": "code",
   "execution_count": 14,
   "id": "92caa01f",
   "metadata": {},
   "outputs": [
    {
     "name": "stdout",
     "output_type": "stream",
     "text": [
      "Linear Regression 2\n",
      "Mean = 94.96504596800506\n",
      "RMSE = 40.02970873393434\n"
     ]
    }
   ],
   "source": [
    "model = LinearRegression()\n",
    "model.fit(features_train_2, target_train_2)\n",
    "predictions_valid_2 = pd.Series(model.predict(features_valid_2))\n",
    "mse = mean_squared_error(target_valid_2, predictions_valid_2)\n",
    "RMSE_2=mse**0.5\n",
    "mean_predictions_valid_2 =predictions_valid_2.mean()\n",
    "\n",
    "print(\"Linear Regression 2\")\n",
    "print(\"Mean =\", mean_predictions_valid_2)\n",
    "print(\"RMSE =\", RMSE_2)"
   ]
  },
  {
   "cell_type": "markdown",
   "id": "267bdc12",
   "metadata": {},
   "source": [
    "<div class=\"alert alert-block alert-info\">\n",
    "<b> Чем ниже RMSE, тем лучше данная модель может «соответствовать» набору данных. Вижу, что самый низкий показатель RMSE у второй модели.\n",
    "    </div>"
   ]
  },
  {
   "cell_type": "markdown",
   "id": "608bb2bd",
   "metadata": {},
   "source": [
    "## Подготовка к расчёту прибыли "
   ]
  },
  {
   "cell_type": "code",
   "execution_count": 15,
   "id": "6b5131e1",
   "metadata": {},
   "outputs": [],
   "source": [
    "### Сохраняю все ключевые значения для расчетов в отдельных переменных\n",
    "research_point = 500  # количество точек исследования\n",
    "learning_point = 200 # количество точек для обучения\n",
    "budget = 10000 # бюджет на разработку скважин млн.р.\n",
    "bootstrap_sample = 1000 # количество выборок по заданию\n",
    "income_per_unit = 0.45 # доход с каждой единицы продукта млн.р\n",
    "probability_losses = 0.025 # вероятность убытков не меньше 2,5%"
   ]
  },
  {
   "cell_type": "markdown",
   "id": "a958f62d",
   "metadata": {},
   "source": [
    "Рассчёт достаточного объема сырья для безубыточной разработки новой скважины. Сначала рассчитываю бюджет на одну скважину"
   ]
  },
  {
   "cell_type": "code",
   "execution_count": 16,
   "id": "f19706ac",
   "metadata": {},
   "outputs": [
    {
     "name": "stdout",
     "output_type": "stream",
     "text": [
      "Бюджет на разработку 1 скважины в млн.р 50.0\n"
     ]
    }
   ],
   "source": [
    "budget_for_well = budget/learning_point\n",
    "print('Бюджет на разработку 1 скважины в млн.р',budget_for_well)"
   ]
  },
  {
   "cell_type": "markdown",
   "id": "ea29c79d",
   "metadata": {},
   "source": [
    "<b> Если разделить бюджет одной скважины на доход с каждой единицы продукта, то получу сколько баррелей должна давать скважина."
   ]
  },
  {
   "cell_type": "code",
   "execution_count": 18,
   "id": "f560ac43",
   "metadata": {},
   "outputs": [
    {
     "name": "stdout",
     "output_type": "stream",
     "text": [
      "чтобы быть доходной скважина должна двавать баррелей 111.11111111111111\n"
     ]
    }
   ],
   "source": [
    "minimum_well_income = budget_for_well/income_per_unit\n",
    "print('чтобы быть доходной скважина должна двавать баррелей', minimum_well_income )"
   ]
  },
  {
   "cell_type": "markdown",
   "id": "bed5e69b",
   "metadata": {},
   "source": [
    "В выбранном регионе № 2 среднее значение 68, что намного меньше. Интересно, сможет ли вообще в этом регионе окупиться добыча. Первый и второй регион по средней добыче на скважину немного выше, но все равно не дотягивают до нужного значения."
   ]
  },
  {
   "cell_type": "markdown",
   "id": "b3b4f318",
   "metadata": {},
   "source": [
    "Напишу функцию для расчета прибыли по выбранным скважинам и предсказаниям модели. Сначала выберу скважины с 200 максимальными значениями предсказаний, просуммируем целевое значение объема сырья и рассчитаем прибыль для полученного объема сырья."
   ]
  },
  {
   "cell_type": "code",
   "execution_count": 19,
   "id": "59f22e4d",
   "metadata": {},
   "outputs": [
    {
     "name": "stdout",
     "output_type": "stream",
     "text": [
      "Регион 1, млн. руб. 3320.8260431398503\n",
      "Регион 2, млн. руб. 2415.086696681512\n",
      "Регион 3, млн. руб. 2710.3499635998323\n"
     ]
    }
   ],
   "source": [
    "def revenue(target_valid, predictions_valid):\n",
    "    probs_sorted = predictions_valid.sort_values(ascending=False).head(200)\n",
    "    selected = target_valid.reset_index(drop=True)[probs_sorted.index]\n",
    "    return (selected.sum() * income_per_unit-budget)\n",
    "\n",
    "\n",
    "print('Регион 1, млн. руб.', revenue(target_valid_0, predictions_valid_0))\n",
    "print('Регион 2, млн. руб.', revenue(target_valid_1, predictions_valid_1))\n",
    "print('Регион 3, млн. руб.', revenue(target_valid_2, predictions_valid_2))"
   ]
  },
  {
   "cell_type": "markdown",
   "id": "d10cac91",
   "metadata": {},
   "source": [
    "<div class=\"alert alert-block alert-info\">\n",
    "<b> Рассчитана прибыль, если все скважины в каждом регионе разраватывать и выбирать 200 самых прибыльных. В реальности на разработку всех скважин не хватит бюджета. Так что далее по заданию беру 500 точек разработки и выбераю из них 200 самых прибыльных и смотрю как изменится прибыль после этого.\n",
    "    </div>"
   ]
  },
  {
   "cell_type": "markdown",
   "id": "a2bad804",
   "metadata": {},
   "source": [
    "## Расчет прибыли и рисков для каждого региона"
   ]
  },
  {
   "cell_type": "markdown",
   "id": "855c71e1",
   "metadata": {},
   "source": [
    "Меняю функцию по расчету прибыли и беру значения по количеству точек исследования 500, количество точек для обучения 200"
   ]
  },
  {
   "cell_type": "code",
   "execution_count": 20,
   "id": "5cc21b3a",
   "metadata": {},
   "outputs": [],
   "source": [
    "def revenue(target_valid, predictions_valid, learning_point):\n",
    "    probs_sorted = predictions_valid.sort_values(ascending=False)\n",
    "    selected = target_valid[probs_sorted.index][:learning_point]\n",
    "    return (selected.sum() * income_per_unit-budget)"
   ]
  },
  {
   "cell_type": "markdown",
   "id": "4b4b1d49",
   "metadata": {},
   "source": [
    "Использую технику bootstrap с 1000 выборок и нахожу распределение прибыли"
   ]
  },
  {
   "cell_type": "code",
   "execution_count": 21,
   "id": "786ddb83",
   "metadata": {},
   "outputs": [],
   "source": [
    "def bootstrap(target_valid, predictions_valid,bootstrap_sample, research_point ): \n",
    "    state = np.random.RandomState(12345)   \n",
    "    values = []\n",
    "  \n",
    "    for i in range(bootstrap_sample):\n",
    "        target_subsample = target_valid.reset_index(drop=True).sample(research_point, replace=True, random_state=state)\n",
    "        probs_subsample = predictions_valid[target_subsample.index] \n",
    "        rev = revenue(target_subsample, probs_subsample,learning_point)\n",
    "        values.append(rev)\n",
    "\n",
    "    \n",
    "\n",
    "    values = pd.Series(values)\n",
    "    lower = values.quantile(.025)\n",
    "    upper = values.quantile(.975)\n",
    "    risk = display(pd.Series(values))\n",
    "\n",
    "    mean = values.mean()\n",
    "    \n",
    "    print(\"Средняя выручка:\", mean)\n",
    "    print(\"2.5%-квантиль:\", lower)\n",
    "    print(\"97.5%-квантиль:\", upper)\n",
    "   \n",
    "    print('Риск убытков = {:.2%} '.format((pd.Series(values)<0).mean()))\n",
    "  \n",
    "    return (lower, upper,  mean, risk)\n"
   ]
  },
  {
   "cell_type": "code",
   "execution_count": 22,
   "id": "397da436",
   "metadata": {},
   "outputs": [
    {
     "data": {
      "text/plain": [
       "0   -2\n",
       "1   -1\n",
       "2    4\n",
       "3    5\n",
       "dtype: int64"
      ]
     },
     "metadata": {},
     "output_type": "display_data"
    },
    {
     "data": {
      "text/plain": [
       "'Риск убытков = 50.00% '"
      ]
     },
     "execution_count": 22,
     "metadata": {},
     "output_type": "execute_result"
    }
   ],
   "source": [
    "display(pd.Series([-2, -1, 4, 5]))\n",
    "'Риск убытков = {:.2%} '.format((pd.Series([-2, -1, 4, 5])<0).mean())"
   ]
  },
  {
   "cell_type": "markdown",
   "id": "bd1cb567",
   "metadata": {},
   "source": [
    "Рассматриваю среднюю прибыль, 95% доверительный интервал и возможный риск убытков по каждому региону и выбераю наиболее подходящий."
   ]
  },
  {
   "cell_type": "code",
   "execution_count": 23,
   "id": "03463f38",
   "metadata": {},
   "outputs": [
    {
     "data": {
      "text/plain": [
       "0      585.088996\n",
       "1      536.393431\n",
       "2      211.079359\n",
       "3      265.280252\n",
       "4      271.992922\n",
       "          ...    \n",
       "995    474.095510\n",
       "996    855.997177\n",
       "997    785.994755\n",
       "998    354.221504\n",
       "999    198.820277\n",
       "Length: 1000, dtype: float64"
      ]
     },
     "metadata": {},
     "output_type": "display_data"
    },
    {
     "name": "stdout",
     "output_type": "stream",
     "text": [
      "Средняя выручка: 425.9385269105923\n",
      "2.5%-квантиль: -102.09009483793592\n",
      "97.5%-квантиль: 947.976353358369\n",
      "Риск убытков = 6.00% \n",
      "Регион 1\n"
     ]
    }
   ],
   "source": [
    "bootstrap(target_valid_0, predictions_valid_0,bootstrap_sample, research_point)\n",
    "print('Регион 1')\n"
   ]
  },
  {
   "cell_type": "code",
   "execution_count": 24,
   "id": "3727747c",
   "metadata": {},
   "outputs": [
    {
     "data": {
      "text/plain": [
       "0      299.359372\n",
       "1      382.831548\n",
       "2      303.651161\n",
       "3      658.190210\n",
       "4      358.573613\n",
       "          ...    \n",
       "995    755.968347\n",
       "996    766.728918\n",
       "997    358.511413\n",
       "998    509.843607\n",
       "999    174.524307\n",
       "Length: 1000, dtype: float64"
      ]
     },
     "metadata": {},
     "output_type": "display_data"
    },
    {
     "name": "stdout",
     "output_type": "stream",
     "text": [
      "Средняя выручка: 515.2227734432905\n",
      "2.5%-квантиль: 68.87322537050254\n",
      "97.5%-квантиль: 931.547591257049\n",
      "Риск убытков = 1.00% \n",
      "Регион 2\n"
     ]
    }
   ],
   "source": [
    "bootstrap(target_valid_1, predictions_valid_1,bootstrap_sample, research_point)\n",
    "print('Регион 2')"
   ]
  },
  {
   "cell_type": "code",
   "execution_count": 25,
   "id": "e9e0bc28",
   "metadata": {},
   "outputs": [
    {
     "data": {
      "text/plain": [
       "0      -95.044177\n",
       "1      728.210597\n",
       "2      611.217813\n",
       "3      582.754149\n",
       "4       25.014579\n",
       "          ...    \n",
       "995    566.865968\n",
       "996    -11.648065\n",
       "997    645.595218\n",
       "998    536.735982\n",
       "999    121.270210\n",
       "Length: 1000, dtype: float64"
      ]
     },
     "metadata": {},
     "output_type": "display_data"
    },
    {
     "name": "stdout",
     "output_type": "stream",
     "text": [
      "Средняя выручка: 435.0083627827561\n",
      "2.5%-квантиль: -128.88054732978893\n",
      "97.5%-квантиль: 969.7069541802657\n",
      "Риск убытков = 6.40% \n",
      "Регион 3\n"
     ]
    }
   ],
   "source": [
    "bootstrap(target_valid_2, predictions_valid_2,bootstrap_sample, research_point)\n",
    "print('Регион 3')"
   ]
  },
  {
   "cell_type": "markdown",
   "id": "785e00fa",
   "metadata": {},
   "source": [
    "## Вывод"
   ]
  },
  {
   "cell_type": "markdown",
   "id": "3f114158",
   "metadata": {},
   "source": [
    "<div class=\"alert alert-block alert-info\">\n",
    "<b> По всем трем регионам показатели средней выручки сильно уменьшились по сравнению с предыдущим расчетом. Согласно расчетам показатели средней выручки во всех трех регионах подходят для дальнейших разработок, так как минимальная граница прибыльности сильно ниже. чем прогнозируемая прибыль по всем трем регионам. Отсутствие прогнозируемых убытков видно только во втором регионе,  по значениям 2,5% квантиля. Левая граница, которая отделяет 2.5 % данных для 1-го и 3-го регионов принимает отрицательное значение, что говорит о том, что более 2.5 % выборок имеют отрицательную прибыль. Согласно исследованию нужно оставить лишь те регионы, в которых вероятность убытков меньше 2,5%. Получается, что это 2 регион.\n",
    "В связи с этим для дальнейшей работы рекомендую оставить только второй регион.\n",
    "     </div>"
   ]
  },
  {
   "cell_type": "code",
   "execution_count": null,
   "id": "cb537b20",
   "metadata": {},
   "outputs": [],
   "source": []
  }
 ],
 "metadata": {
  "kernelspec": {
   "display_name": "Python 3 (ipykernel)",
   "language": "python",
   "name": "python3"
  },
  "language_info": {
   "codemirror_mode": {
    "name": "ipython",
    "version": 3
   },
   "file_extension": ".py",
   "mimetype": "text/x-python",
   "name": "python",
   "nbconvert_exporter": "python",
   "pygments_lexer": "ipython3",
   "version": "3.9.13"
  }
 },
 "nbformat": 4,
 "nbformat_minor": 5
}
